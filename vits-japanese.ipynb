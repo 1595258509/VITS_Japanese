{
 "cells": [
  {
   "cell_type": "markdown",
   "id": "f7efcf36",
   "metadata": {
    "id": "65CU-n-JHhbY",
    "papermill": {
     "duration": 0.003594,
     "end_time": "2022-08-09T13:05:09.536993",
     "exception": false,
     "start_time": "2022-08-09T13:05:09.533399",
     "status": "completed"
    },
    "pycharm": {
     "name": "#%% md\n"
    },
    "tags": []
   },
   "source": [
    "# Clone repository"
   ]
  },
  {
   "cell_type": "code",
   "execution_count": 1,
   "id": "49ebf6e3",
   "metadata": {
    "execution": {
     "iopub.execute_input": "2022-08-09T13:05:09.543782Z",
     "iopub.status.busy": "2022-08-09T13:05:09.543363Z",
     "iopub.status.idle": "2022-08-09T13:07:36.292183Z",
     "shell.execute_reply": "2022-08-09T13:07:36.290992Z"
    },
    "executionInfo": {
     "elapsed": 198272,
     "status": "ok",
     "timestamp": 1659461977037,
     "user": {
      "displayName": "章政",
      "userId": "17693849672782836082"
     },
     "user_tz": -480
    },
    "id": "i_0vZ-OjHVNu",
    "outputId": "52655c4e-699c-465a-ce12-9cef24aa8a1e",
    "papermill": {
     "duration": 146.755073,
     "end_time": "2022-08-09T13:07:36.294855",
     "exception": false,
     "start_time": "2022-08-09T13:05:09.539782",
     "status": "completed"
    },
    "pycharm": {
     "name": "#%%\n"
    },
    "tags": []
   },
   "outputs": [
    {
     "name": "stdout",
     "output_type": "stream",
     "text": [
      "Cloning into 'VITS_Japanese'...\r\n",
      "remote: Enumerating objects: 180, done.\u001b[K\r\n",
      "remote: Counting objects: 100% (138/138), done.\u001b[K\r\n",
      "remote: Compressing objects: 100% (95/95), done.\u001b[K\r\n",
      "remote: Total 180 (delta 66), reused 81 (delta 39), pack-reused 42\u001b[K\r\n",
      "Receiving objects: 100% (180/180), 5.41 MiB | 4.12 MiB/s, done.\r\n",
      "Resolving deltas: 100% (75/75), done.\r\n",
      "/kaggle/working/VITS_Japanese\n",
      "Collecting Cython==0.29.21\r\n",
      "  Downloading Cython-0.29.21-cp37-cp37m-manylinux1_x86_64.whl (2.0 MB)\r\n",
      "\u001b[2K     \u001b[90m━━━━━━━━━━━━━━━━━━━━━━━━━━━━━━━━━━━━━━━━\u001b[0m \u001b[32m2.0/2.0 MB\u001b[0m \u001b[31m2.0 MB/s\u001b[0m eta \u001b[36m0:00:00\u001b[0m\r\n",
      "\u001b[?25hCollecting librosa==0.8.0\r\n",
      "  Downloading librosa-0.8.0.tar.gz (183 kB)\r\n",
      "\u001b[2K     \u001b[90m━━━━━━━━━━━━━━━━━━━━━━━━━━━━━━━━━━━━━━\u001b[0m \u001b[32m183.9/183.9 kB\u001b[0m \u001b[31m13.1 MB/s\u001b[0m eta \u001b[36m0:00:00\u001b[0m\r\n",
      "\u001b[?25h  Preparing metadata (setup.py) ... \u001b[?25l-\b \bdone\r\n",
      "\u001b[?25hCollecting matplotlib==3.3.1\r\n",
      "  Downloading matplotlib-3.3.1-cp37-cp37m-manylinux1_x86_64.whl (11.6 MB)\r\n",
      "\u001b[2K     \u001b[90m━━━━━━━━━━━━━━━━━━━━━━━━━━━━━━━━━━━━━━━━\u001b[0m \u001b[32m11.6/11.6 MB\u001b[0m \u001b[31m14.0 MB/s\u001b[0m eta \u001b[36m0:00:00\u001b[0m\r\n",
      "\u001b[?25hRequirement already satisfied: numpy==1.21.6 in /opt/conda/lib/python3.7/site-packages (from -r requirements.txt (line 4)) (1.21.6)\r\n",
      "Collecting phonemizer==2.2.1\r\n",
      "  Downloading phonemizer-2.2.1-py3-none-any.whl (49 kB)\r\n",
      "\u001b[2K     \u001b[90m━━━━━━━━━━━━━━━━━━━━━━━━━━━━━━━━━━━━━━━━\u001b[0m \u001b[32m49.0/49.0 kB\u001b[0m \u001b[31m4.0 MB/s\u001b[0m eta \u001b[36m0:00:00\u001b[0m\r\n",
      "\u001b[?25hCollecting scipy==1.5.2\r\n",
      "  Downloading scipy-1.5.2-cp37-cp37m-manylinux1_x86_64.whl (25.9 MB)\r\n",
      "\u001b[2K     \u001b[90m━━━━━━━━━━━━━━━━━━━━━━━━━━━━━━━━━━━━━━━━\u001b[0m \u001b[32m25.9/25.9 MB\u001b[0m \u001b[31m14.6 MB/s\u001b[0m eta \u001b[36m0:00:00\u001b[0m\r\n",
      "\u001b[?25hCollecting tensorboard==2.3.0\r\n",
      "  Downloading tensorboard-2.3.0-py3-none-any.whl (6.8 MB)\r\n",
      "\u001b[2K     \u001b[90m━━━━━━━━━━━━━━━━━━━━━━━━━━━━━━━━━━━━━━━━\u001b[0m \u001b[32m6.8/6.8 MB\u001b[0m \u001b[31m16.9 MB/s\u001b[0m eta \u001b[36m0:00:00\u001b[0m\r\n",
      "\u001b[?25hCollecting torch==1.6.0\r\n",
      "  Downloading torch-1.6.0-cp37-cp37m-manylinux1_x86_64.whl (748.8 MB)\r\n",
      "\u001b[2K     \u001b[90m━━━━━━━━━━━━━━━━━━━━━━━━━━━━━━━━━━━━━━━\u001b[0m \u001b[32m748.8/748.8 MB\u001b[0m \u001b[31m1.3 MB/s\u001b[0m eta \u001b[36m0:00:00\u001b[0m\r\n",
      "\u001b[?25hCollecting torchvision==0.7.0\r\n",
      "  Downloading torchvision-0.7.0-cp37-cp37m-manylinux1_x86_64.whl (5.9 MB)\r\n",
      "\u001b[2K     \u001b[90m━━━━━━━━━━━━━━━━━━━━━━━━━━━━━━━━━━━━━━━━\u001b[0m \u001b[32m5.9/5.9 MB\u001b[0m \u001b[31m22.6 MB/s\u001b[0m eta \u001b[36m0:00:00\u001b[0m\r\n",
      "\u001b[?25hCollecting Unidecode==1.1.1\r\n",
      "  Downloading Unidecode-1.1.1-py2.py3-none-any.whl (238 kB)\r\n",
      "\u001b[2K     \u001b[90m━━━━━━━━━━━━━━━━━━━━━━━━━━━━━━━━━━━━━━\u001b[0m \u001b[32m238.3/238.3 kB\u001b[0m \u001b[31m17.3 MB/s\u001b[0m eta \u001b[36m0:00:00\u001b[0m\r\n",
      "\u001b[?25hRequirement already satisfied: audioread>=2.0.0 in /opt/conda/lib/python3.7/site-packages (from librosa==0.8.0->-r requirements.txt (line 2)) (2.1.9)\r\n",
      "Requirement already satisfied: scikit-learn!=0.19.0,>=0.14.0 in /opt/conda/lib/python3.7/site-packages (from librosa==0.8.0->-r requirements.txt (line 2)) (1.0.2)\r\n",
      "Requirement already satisfied: joblib>=0.14 in /opt/conda/lib/python3.7/site-packages (from librosa==0.8.0->-r requirements.txt (line 2)) (1.0.1)\r\n",
      "Requirement already satisfied: decorator>=3.0.0 in /opt/conda/lib/python3.7/site-packages (from librosa==0.8.0->-r requirements.txt (line 2)) (5.1.1)\r\n",
      "Requirement already satisfied: resampy>=0.2.2 in /opt/conda/lib/python3.7/site-packages (from librosa==0.8.0->-r requirements.txt (line 2)) (0.3.1)\r\n",
      "Requirement already satisfied: numba>=0.43.0 in /opt/conda/lib/python3.7/site-packages (from librosa==0.8.0->-r requirements.txt (line 2)) (0.55.2)\r\n",
      "Requirement already satisfied: soundfile>=0.9.0 in /opt/conda/lib/python3.7/site-packages (from librosa==0.8.0->-r requirements.txt (line 2)) (0.10.3.post1)\r\n",
      "Requirement already satisfied: pooch>=1.0 in /opt/conda/lib/python3.7/site-packages (from librosa==0.8.0->-r requirements.txt (line 2)) (1.6.0)\r\n",
      "Requirement already satisfied: python-dateutil>=2.1 in /opt/conda/lib/python3.7/site-packages (from matplotlib==3.3.1->-r requirements.txt (line 3)) (2.8.2)\r\n",
      "Requirement already satisfied: certifi>=2020.06.20 in /opt/conda/lib/python3.7/site-packages (from matplotlib==3.3.1->-r requirements.txt (line 3)) (2022.6.15)\r\n",
      "Requirement already satisfied: kiwisolver>=1.0.1 in /opt/conda/lib/python3.7/site-packages (from matplotlib==3.3.1->-r requirements.txt (line 3)) (1.4.3)\r\n",
      "Requirement already satisfied: pyparsing!=2.0.4,!=2.1.2,!=2.1.6,>=2.0.3 in /opt/conda/lib/python3.7/site-packages (from matplotlib==3.3.1->-r requirements.txt (line 3)) (3.0.9)\r\n",
      "Requirement already satisfied: pillow>=6.2.0 in /opt/conda/lib/python3.7/site-packages (from matplotlib==3.3.1->-r requirements.txt (line 3)) (9.1.1)\r\n",
      "Requirement already satisfied: cycler>=0.10 in /opt/conda/lib/python3.7/site-packages (from matplotlib==3.3.1->-r requirements.txt (line 3)) (0.11.0)\r\n",
      "Collecting segments\r\n",
      "  Downloading segments-2.2.1-py2.py3-none-any.whl (15 kB)\r\n",
      "Requirement already satisfied: attrs>=18.1 in /opt/conda/lib/python3.7/site-packages (from phonemizer==2.2.1->-r requirements.txt (line 5)) (21.4.0)\r\n",
      "Requirement already satisfied: tensorboard-plugin-wit>=1.6.0 in /opt/conda/lib/python3.7/site-packages (from tensorboard==2.3.0->-r requirements.txt (line 7)) (1.8.1)\r\n",
      "Requirement already satisfied: grpcio>=1.24.3 in /opt/conda/lib/python3.7/site-packages (from tensorboard==2.3.0->-r requirements.txt (line 7)) (1.43.0)\r\n",
      "Requirement already satisfied: requests<3,>=2.21.0 in /opt/conda/lib/python3.7/site-packages (from tensorboard==2.3.0->-r requirements.txt (line 7)) (2.28.1)\r\n",
      "Requirement already satisfied: setuptools>=41.0.0 in /opt/conda/lib/python3.7/site-packages (from tensorboard==2.3.0->-r requirements.txt (line 7)) (59.8.0)\r\n",
      "Requirement already satisfied: werkzeug>=0.11.15 in /opt/conda/lib/python3.7/site-packages (from tensorboard==2.3.0->-r requirements.txt (line 7)) (2.1.2)\r\n",
      "Requirement already satisfied: protobuf>=3.6.0 in /opt/conda/lib/python3.7/site-packages (from tensorboard==2.3.0->-r requirements.txt (line 7)) (3.19.4)\r\n",
      "Requirement already satisfied: google-auth<2,>=1.6.3 in /opt/conda/lib/python3.7/site-packages (from tensorboard==2.3.0->-r requirements.txt (line 7)) (1.35.0)\r\n",
      "Requirement already satisfied: wheel>=0.26 in /opt/conda/lib/python3.7/site-packages (from tensorboard==2.3.0->-r requirements.txt (line 7)) (0.37.1)\r\n",
      "Requirement already satisfied: absl-py>=0.4 in /opt/conda/lib/python3.7/site-packages (from tensorboard==2.3.0->-r requirements.txt (line 7)) (1.1.0)\r\n",
      "Requirement already satisfied: markdown>=2.6.8 in /opt/conda/lib/python3.7/site-packages (from tensorboard==2.3.0->-r requirements.txt (line 7)) (3.3.7)\r\n",
      "Requirement already satisfied: six>=1.10.0 in /opt/conda/lib/python3.7/site-packages (from tensorboard==2.3.0->-r requirements.txt (line 7)) (1.16.0)\r\n",
      "Requirement already satisfied: google-auth-oauthlib<0.5,>=0.4.1 in /opt/conda/lib/python3.7/site-packages (from tensorboard==2.3.0->-r requirements.txt (line 7)) (0.4.6)\r\n",
      "Requirement already satisfied: future in /opt/conda/lib/python3.7/site-packages (from torch==1.6.0->-r requirements.txt (line 8)) (0.18.2)\r\n",
      "Requirement already satisfied: cachetools<5.0,>=2.0.0 in /opt/conda/lib/python3.7/site-packages (from google-auth<2,>=1.6.3->tensorboard==2.3.0->-r requirements.txt (line 7)) (4.2.4)\r\n",
      "Requirement already satisfied: rsa<5,>=3.1.4 in /opt/conda/lib/python3.7/site-packages (from google-auth<2,>=1.6.3->tensorboard==2.3.0->-r requirements.txt (line 7)) (4.8)\r\n",
      "Requirement already satisfied: pyasn1-modules>=0.2.1 in /opt/conda/lib/python3.7/site-packages (from google-auth<2,>=1.6.3->tensorboard==2.3.0->-r requirements.txt (line 7)) (0.2.7)\r\n",
      "Requirement already satisfied: requests-oauthlib>=0.7.0 in /opt/conda/lib/python3.7/site-packages (from google-auth-oauthlib<0.5,>=0.4.1->tensorboard==2.3.0->-r requirements.txt (line 7)) (1.3.1)\r\n",
      "Requirement already satisfied: typing-extensions in /opt/conda/lib/python3.7/site-packages (from kiwisolver>=1.0.1->matplotlib==3.3.1->-r requirements.txt (line 3)) (4.1.1)\r\n",
      "Requirement already satisfied: importlib-metadata>=4.4 in /opt/conda/lib/python3.7/site-packages (from markdown>=2.6.8->tensorboard==2.3.0->-r requirements.txt (line 7)) (4.12.0)\r\n",
      "Requirement already satisfied: llvmlite<0.39,>=0.38.0rc1 in /opt/conda/lib/python3.7/site-packages (from numba>=0.43.0->librosa==0.8.0->-r requirements.txt (line 2)) (0.38.1)\r\n",
      "Requirement already satisfied: appdirs>=1.3.0 in /opt/conda/lib/python3.7/site-packages (from pooch>=1.0->librosa==0.8.0->-r requirements.txt (line 2)) (1.4.4)\r\n",
      "Requirement already satisfied: packaging>=20.0 in /opt/conda/lib/python3.7/site-packages (from pooch>=1.0->librosa==0.8.0->-r requirements.txt (line 2)) (21.3)\r\n",
      "Requirement already satisfied: urllib3<1.27,>=1.21.1 in /opt/conda/lib/python3.7/site-packages (from requests<3,>=2.21.0->tensorboard==2.3.0->-r requirements.txt (line 7)) (1.26.9)\r\n",
      "Requirement already satisfied: charset-normalizer<3,>=2 in /opt/conda/lib/python3.7/site-packages (from requests<3,>=2.21.0->tensorboard==2.3.0->-r requirements.txt (line 7)) (2.1.0)\r\n",
      "Requirement already satisfied: idna<4,>=2.5 in /opt/conda/lib/python3.7/site-packages (from requests<3,>=2.21.0->tensorboard==2.3.0->-r requirements.txt (line 7)) (3.3)\r\n",
      "Requirement already satisfied: threadpoolctl>=2.0.0 in /opt/conda/lib/python3.7/site-packages (from scikit-learn!=0.19.0,>=0.14.0->librosa==0.8.0->-r requirements.txt (line 2)) (3.1.0)\r\n",
      "Requirement already satisfied: cffi>=1.0 in /opt/conda/lib/python3.7/site-packages (from soundfile>=0.9.0->librosa==0.8.0->-r requirements.txt (line 2)) (1.15.0)\r\n",
      "Requirement already satisfied: regex in /opt/conda/lib/python3.7/site-packages (from segments->phonemizer==2.2.1->-r requirements.txt (line 5)) (2021.11.10)\r\n",
      "Collecting clldutils>=1.7.3\r\n",
      "  Downloading clldutils-3.12.0-py2.py3-none-any.whl (197 kB)\r\n",
      "\u001b[2K     \u001b[90m━━━━━━━━━━━━━━━━━━━━━━━━━━━━━━━━━━━━━━\u001b[0m \u001b[32m197.6/197.6 kB\u001b[0m \u001b[31m12.4 MB/s\u001b[0m eta \u001b[36m0:00:00\u001b[0m\r\n",
      "\u001b[?25hCollecting csvw>=1.5.6\r\n",
      "  Downloading csvw-3.1.1-py2.py3-none-any.whl (56 kB)\r\n",
      "\u001b[2K     \u001b[90m━━━━━━━━━━━━━━━━━━━━━━━━━━━━━━━━━━━━━━━━\u001b[0m \u001b[32m56.3/56.3 kB\u001b[0m \u001b[31m4.8 MB/s\u001b[0m eta \u001b[36m0:00:00\u001b[0m\r\n",
      "\u001b[?25hRequirement already satisfied: pycparser in /opt/conda/lib/python3.7/site-packages (from cffi>=1.0->soundfile>=0.9.0->librosa==0.8.0->-r requirements.txt (line 2)) (2.21)\r\n",
      "Requirement already satisfied: colorlog in /opt/conda/lib/python3.7/site-packages (from clldutils>=1.7.3->segments->phonemizer==2.2.1->-r requirements.txt (line 5)) (6.6.0)\r\n",
      "Requirement already satisfied: tabulate>=0.7.7 in /opt/conda/lib/python3.7/site-packages (from clldutils>=1.7.3->segments->phonemizer==2.2.1->-r requirements.txt (line 5)) (0.8.10)\r\n",
      "Requirement already satisfied: colorama in /opt/conda/lib/python3.7/site-packages (from csvw>=1.5.6->segments->phonemizer==2.2.1->-r requirements.txt (line 5)) (0.4.5)\r\n",
      "Collecting isodate\r\n",
      "  Downloading isodate-0.6.1-py2.py3-none-any.whl (41 kB)\r\n",
      "\u001b[2K     \u001b[90m━━━━━━━━━━━━━━━━━━━━━━━━━━━━━━━━━━━━━━━━\u001b[0m \u001b[32m41.7/41.7 kB\u001b[0m \u001b[31m3.4 MB/s\u001b[0m eta \u001b[36m0:00:00\u001b[0m\r\n",
      "\u001b[?25hCollecting rdflib\r\n",
      "  Downloading rdflib-6.2.0-py3-none-any.whl (500 kB)\r\n",
      "\u001b[2K     \u001b[90m━━━━━━━━━━━━━━━━━━━━━━━━━━━━━━━━━━━━━━\u001b[0m \u001b[32m500.3/500.3 kB\u001b[0m \u001b[31m26.1 MB/s\u001b[0m eta \u001b[36m0:00:00\u001b[0m\r\n",
      "\u001b[?25hRequirement already satisfied: babel in /opt/conda/lib/python3.7/site-packages (from csvw>=1.5.6->segments->phonemizer==2.2.1->-r requirements.txt (line 5)) (2.10.3)\r\n",
      "Collecting language-tags\r\n",
      "  Downloading language_tags-1.1.0-py2.py3-none-any.whl (210 kB)\r\n",
      "\u001b[2K     \u001b[90m━━━━━━━━━━━━━━━━━━━━━━━━━━━━━━━━━━━━━━\u001b[0m \u001b[32m210.5/210.5 kB\u001b[0m \u001b[31m17.4 MB/s\u001b[0m eta \u001b[36m0:00:00\u001b[0m\r\n",
      "\u001b[?25hRequirement already satisfied: uritemplate>=3.0.0 in /opt/conda/lib/python3.7/site-packages (from csvw>=1.5.6->segments->phonemizer==2.2.1->-r requirements.txt (line 5)) (3.0.1)\r\n",
      "Collecting rfc3986<2\r\n",
      "  Downloading rfc3986-1.5.0-py2.py3-none-any.whl (31 kB)\r\n",
      "Requirement already satisfied: jsonschema in /opt/conda/lib/python3.7/site-packages (from csvw>=1.5.6->segments->phonemizer==2.2.1->-r requirements.txt (line 5)) (4.6.1)\r\n",
      "Requirement already satisfied: zipp>=0.5 in /opt/conda/lib/python3.7/site-packages (from importlib-metadata>=4.4->markdown>=2.6.8->tensorboard==2.3.0->-r requirements.txt (line 7)) (3.8.0)\r\n",
      "Requirement already satisfied: pyasn1<0.5.0,>=0.4.6 in /opt/conda/lib/python3.7/site-packages (from pyasn1-modules>=0.2.1->google-auth<2,>=1.6.3->tensorboard==2.3.0->-r requirements.txt (line 7)) (0.4.8)\r\n",
      "Requirement already satisfied: oauthlib>=3.0.0 in /opt/conda/lib/python3.7/site-packages (from requests-oauthlib>=0.7.0->google-auth-oauthlib<0.5,>=0.4.1->tensorboard==2.3.0->-r requirements.txt (line 7)) (3.2.0)\r\n",
      "Requirement already satisfied: pytz>=2015.7 in /opt/conda/lib/python3.7/site-packages (from babel->csvw>=1.5.6->segments->phonemizer==2.2.1->-r requirements.txt (line 5)) (2022.1)\r\n",
      "Requirement already satisfied: importlib-resources>=1.4.0 in /opt/conda/lib/python3.7/site-packages (from jsonschema->csvw>=1.5.6->segments->phonemizer==2.2.1->-r requirements.txt (line 5)) (5.8.0)\r\n",
      "Requirement already satisfied: pyrsistent!=0.17.0,!=0.17.1,!=0.17.2,>=0.14.0 in /opt/conda/lib/python3.7/site-packages (from jsonschema->csvw>=1.5.6->segments->phonemizer==2.2.1->-r requirements.txt (line 5)) (0.18.1)\r\n",
      "Building wheels for collected packages: librosa\r\n",
      "  Building wheel for librosa (setup.py) ... \u001b[?25l-\b \b\\\b \bdone\r\n",
      "\u001b[?25h  Created wheel for librosa: filename=librosa-0.8.0-py3-none-any.whl size=201396 sha256=5a5bd14658c65ec04961bc4ccd08ac094bf93edc5eb049acb2d1f2f23bf739e4\r\n",
      "  Stored in directory: /root/.cache/pip/wheels/de/1e/aa/d91797ae7e1ce11853ee100bee9d1781ae9d750e7458c95afb\r\n",
      "Successfully built librosa\r\n",
      "Installing collected packages: rfc3986, language-tags, Unidecode, torch, scipy, isodate, Cython, torchvision, rdflib, matplotlib, librosa, csvw, tensorboard, clldutils, segments, phonemizer\r\n",
      "  Attempting uninstall: Unidecode\r\n",
      "    Found existing installation: Unidecode 1.3.4\r\n",
      "    Uninstalling Unidecode-1.3.4:\r\n",
      "      Successfully uninstalled Unidecode-1.3.4\r\n",
      "  Attempting uninstall: torch\r\n",
      "    Found existing installation: torch 1.11.0\r\n",
      "    Uninstalling torch-1.11.0:\r\n",
      "      Successfully uninstalled torch-1.11.0\r\n",
      "  Attempting uninstall: scipy\r\n",
      "    Found existing installation: scipy 1.7.3\r\n",
      "    Uninstalling scipy-1.7.3:\r\n",
      "      Successfully uninstalled scipy-1.7.3\r\n",
      "  Attempting uninstall: Cython\r\n",
      "    Found existing installation: Cython 0.29.30\r\n",
      "    Uninstalling Cython-0.29.30:\r\n",
      "      Successfully uninstalled Cython-0.29.30\r\n",
      "  Attempting uninstall: torchvision\r\n",
      "    Found existing installation: torchvision 0.12.0\r\n",
      "    Uninstalling torchvision-0.12.0:\r\n",
      "      Successfully uninstalled torchvision-0.12.0\r\n",
      "  Attempting uninstall: matplotlib\r\n",
      "    Found existing installation: matplotlib 3.5.2\r\n",
      "    Uninstalling matplotlib-3.5.2:\r\n",
      "      Successfully uninstalled matplotlib-3.5.2\r\n",
      "  Attempting uninstall: librosa\r\n",
      "    Found existing installation: librosa 0.9.2\r\n",
      "    Uninstalling librosa-0.9.2:\r\n",
      "      Successfully uninstalled librosa-0.9.2\r\n",
      "  Attempting uninstall: tensorboard\r\n",
      "    Found existing installation: tensorboard 2.6.0\r\n",
      "    Uninstalling tensorboard-2.6.0:\r\n",
      "      Successfully uninstalled tensorboard-2.6.0\r\n",
      "\u001b[31mERROR: pip's dependency resolver does not currently take into account all the packages that are installed. This behaviour is the source of the following dependency conflicts.\r\n",
      "tensorflow-io 0.21.0 requires tensorflow-io-gcs-filesystem==0.21.0, which is not installed.\r\n",
      "beatrix-jupyterlab 3.1.7 requires google-cloud-bigquery-storage, which is not installed.\r\n",
      "tensorflow 2.6.4 requires absl-py~=0.10, but you have absl-py 1.1.0 which is incompatible.\r\n",
      "tensorflow 2.6.4 requires h5py~=3.1.0, but you have h5py 3.7.0 which is incompatible.\r\n",
      "tensorflow 2.6.4 requires numpy~=1.19.2, but you have numpy 1.21.6 which is incompatible.\r\n",
      "tensorflow 2.6.4 requires six~=1.15.0, but you have six 1.16.0 which is incompatible.\r\n",
      "tensorflow 2.6.4 requires tensorboard<2.7,>=2.6.0, but you have tensorboard 2.3.0 which is incompatible.\r\n",
      "tensorflow 2.6.4 requires typing-extensions<3.11,>=3.7, but you have typing-extensions 4.1.1 which is incompatible.\r\n",
      "tensorflow 2.6.4 requires wrapt~=1.12.1, but you have wrapt 1.14.1 which is incompatible.\r\n",
      "tensorflow-transform 1.9.0 requires tensorflow!=2.0.*,!=2.1.*,!=2.2.*,!=2.3.*,!=2.4.*,!=2.5.*,!=2.6.*,!=2.7.*,!=2.8.*,<2.10,>=1.15.5, but you have tensorflow 2.6.4 which is incompatible.\r\n",
      "tensorflow-serving-api 2.9.0 requires tensorflow<3,>=2.9.0, but you have tensorflow 2.6.4 which is incompatible.\r\n",
      "pytorch-lightning 1.6.5 requires torch>=1.8.*, but you have torch 1.6.0 which is incompatible.\r\n",
      "pymc3 3.11.5 requires scipy<1.8.0,>=1.7.3, but you have scipy 1.5.2 which is incompatible.\r\n",
      "pdpbox 0.2.1 requires matplotlib==3.1.1, but you have matplotlib 3.3.1 which is incompatible.\r\n",
      "flax 0.5.2 requires rich~=11.1, but you have rich 12.1.0 which is incompatible.\r\n",
      "fastai 2.7.7 requires torch<1.13,>=1.7, but you have torch 1.6.0 which is incompatible.\r\n",
      "fastai 2.7.7 requires torchvision>=0.8.2, but you have torchvision 0.7.0 which is incompatible.\r\n",
      "fairscale 0.4.6 requires torch>=1.8.0, but you have torch 1.6.0 which is incompatible.\r\n",
      "allennlp 2.10.0 requires protobuf==3.20.0, but you have protobuf 3.19.4 which is incompatible.\r\n",
      "allennlp 2.10.0 requires scipy>=1.7.3, but you have scipy 1.5.2 which is incompatible.\r\n",
      "allennlp 2.10.0 requires torch<1.12.0,>=1.10.0, but you have torch 1.6.0 which is incompatible.\r\n",
      "allennlp 2.10.0 requires torchvision<0.13.0,>=0.8.1, but you have torchvision 0.7.0 which is incompatible.\u001b[0m\u001b[31m\r\n",
      "\u001b[0mSuccessfully installed Cython-0.29.21 Unidecode-1.1.1 clldutils-3.12.0 csvw-3.1.1 isodate-0.6.1 language-tags-1.1.0 librosa-0.8.0 matplotlib-3.3.1 phonemizer-2.2.1 rdflib-6.2.0 rfc3986-1.5.0 scipy-1.5.2 segments-2.2.1 tensorboard-2.3.0 torch-1.6.0 torchvision-0.7.0\r\n",
      "\u001b[33mWARNING: Running pip as the 'root' user can result in broken permissions and conflicting behaviour with the system package manager. It is recommended to use a virtual environment instead: https://pip.pypa.io/warnings/venv\u001b[0m\u001b[33m\r\n",
      "\u001b[0mNote: you may need to restart the kernel to use updated packages.\n",
      "\r\n",
      "\r\n",
      "\r\n",
      "The following additional packages will be installed:\r\n",
      "  espeak-data libespeak1 libportaudio2 libsonic0\r\n",
      "The following NEW packages will be installed:\r\n",
      "  espeak espeak-data libespeak1 libportaudio2 libsonic0\r\n",
      "0 upgraded, 5 newly installed, 0 to remove and 43 not upgraded.\r\n",
      "Need to get 1220 kB of archives.\r\n",
      "After this operation, 3060 kB of additional disk space will be used.\r\n",
      "Get:1 http://archive.ubuntu.com/ubuntu focal/universe amd64 libportaudio2 amd64 19.6.0-1build1 [65.4 kB]\r\n",
      "Get:2 http://archive.ubuntu.com/ubuntu focal/main amd64 libsonic0 amd64 0.2.0-8 [13.1 kB]\r\n",
      "Get:3 http://archive.ubuntu.com/ubuntu focal/universe amd64 espeak-data amd64 1.48.04+dfsg-8build1 [932 kB]\r\n",
      "Get:4 http://archive.ubuntu.com/ubuntu focal/universe amd64 libespeak1 amd64 1.48.04+dfsg-8build1 [147 kB]\r\n",
      "Get:5 http://archive.ubuntu.com/ubuntu focal/universe amd64 espeak amd64 1.48.04+dfsg-8build1 [61.8 kB]\r\n",
      "Fetched 1220 kB in 2s (624 kB/s)\r\n",
      "Selecting previously unselected package libportaudio2:amd64.\r\n",
      "(Reading database ... 108827 files and directories currently installed.)\r\n",
      "Preparing to unpack .../libportaudio2_19.6.0-1build1_amd64.deb ...\r\n",
      "Unpacking libportaudio2:amd64 (19.6.0-1build1) ...\r\n",
      "Selecting previously unselected package libsonic0:amd64.\r\n",
      "Preparing to unpack .../libsonic0_0.2.0-8_amd64.deb ...\r\n",
      "Unpacking libsonic0:amd64 (0.2.0-8) ...\r\n",
      "Selecting previously unselected package espeak-data:amd64.\r\n",
      "Preparing to unpack .../espeak-data_1.48.04+dfsg-8build1_amd64.deb ...\r\n",
      "Unpacking espeak-data:amd64 (1.48.04+dfsg-8build1) ...\r\n",
      "Selecting previously unselected package libespeak1:amd64.\r\n",
      "Preparing to unpack .../libespeak1_1.48.04+dfsg-8build1_amd64.deb ...\r\n",
      "Unpacking libespeak1:amd64 (1.48.04+dfsg-8build1) ...\r\n",
      "Selecting previously unselected package espeak.\r\n",
      "Preparing to unpack .../espeak_1.48.04+dfsg-8build1_amd64.deb ...\r\n",
      "Unpacking espeak (1.48.04+dfsg-8build1) ...\r\n",
      "Setting up libportaudio2:amd64 (19.6.0-1build1) ...\r\n",
      "Setting up libsonic0:amd64 (0.2.0-8) ...\r\n",
      "Setting up espeak-data:amd64 (1.48.04+dfsg-8build1) ...\r\n",
      "Setting up libespeak1:amd64 (1.48.04+dfsg-8build1) ...\r\n",
      "Setting up espeak (1.48.04+dfsg-8build1) ...\r\n",
      "Processing triggers for man-db (2.9.1-1) ...\r\n",
      "Processing triggers for libc-bin (2.31-0ubuntu9.7) ...\r\n"
     ]
    }
   ],
   "source": [
    "!git clone https://github.com/1595258509/VITS_Japanese.git\n",
    "%cd VITS_Japanese\n",
    "%pip install -r requirements.txt\n",
    "!sudo apt-get install espeak -y"
   ]
  },
  {
   "cell_type": "code",
   "execution_count": 2,
   "id": "a684a12a",
   "metadata": {
    "execution": {
     "iopub.execute_input": "2022-08-09T13:07:36.423420Z",
     "iopub.status.busy": "2022-08-09T13:07:36.423070Z",
     "iopub.status.idle": "2022-08-09T13:09:18.114031Z",
     "shell.execute_reply": "2022-08-09T13:09:18.112531Z"
    },
    "papermill": {
     "duration": 101.758069,
     "end_time": "2022-08-09T13:09:18.116814",
     "exception": false,
     "start_time": "2022-08-09T13:07:36.358745",
     "status": "completed"
    },
    "tags": []
   },
   "outputs": [
    {
     "name": "stdout",
     "output_type": "stream",
     "text": [
      "Collecting pyopenjtalk==0.1.3\r\n",
      "  Downloading pyopenjtalk-0.1.3.tar.gz (1.5 MB)\r\n",
      "\u001b[2K     \u001b[90m━━━━━━━━━━━━━━━━━━━━━━━━━━━━━━━━━━━━━━━━\u001b[0m \u001b[32m1.5/1.5 MB\u001b[0m \u001b[31m1.4 MB/s\u001b[0m eta \u001b[36m0:00:00\u001b[0m\r\n",
      "\u001b[?25h  Installing build dependencies ... \u001b[?25l-\b \b\\\b \b|\b \b/\b \b-\b \b\\\b \b|\b \b/\b \b-\b \b\\\b \b|\b \b/\b \b-\b \bdone\r\n",
      "\u001b[?25h  Getting requirements to build wheel ... \u001b[?25l-\b \bdone\r\n",
      "\u001b[?25h  Preparing metadata (pyproject.toml) ... \u001b[?25l-\b \bdone\r\n",
      "\u001b[?25hRequirement already satisfied: numpy>=1.8.0 in /opt/conda/lib/python3.7/site-packages (from pyopenjtalk==0.1.3) (1.21.6)\r\n",
      "Requirement already satisfied: six in /opt/conda/lib/python3.7/site-packages (from pyopenjtalk==0.1.3) (1.16.0)\r\n",
      "Requirement already satisfied: cython>=0.21.0 in /opt/conda/lib/python3.7/site-packages (from pyopenjtalk==0.1.3) (0.29.21)\r\n",
      "Building wheels for collected packages: pyopenjtalk\r\n",
      "  Building wheel for pyopenjtalk (pyproject.toml) ... \u001b[?25l-\b \b\\\b \b|\b \b/\b \b-\b \b\\\b \b|\b \b/\b \b-\b \b\\\b \b|\b \b/\b \b-\b \b\\\b \b|\b \b/\b \b-\b \b\\\b \b|\b \b/\b \b-\b \b\\\b \b|\b \b/\b \b-\b \b\\\b \b|\b \b/\b \b-\b \b\\\b \b|\b \b/\b \b-\b \b\\\b \b|\b \b/\b \b-\b \b\\\b \b|\b \b/\b \b-\b \b\\\b \b|\b \b/\b \b-\b \b\\\b \b|\b \b/\b \b-\b \b\\\b \b|\b \b/\b \b-\b \bdone\r\n",
      "\u001b[?25h  Created wheel for pyopenjtalk: filename=pyopenjtalk-0.1.3-cp37-cp37m-linux_x86_64.whl size=5991954 sha256=8eaa2a387da057b38da6a465b0c189fe0504e55441c741b7217727996f069cc2\r\n",
      "  Stored in directory: /root/.cache/pip/wheels/39/7c/51/6240eb7f4ad6816e3c7c4d86e74359c5da1e1baab3318688f1\r\n",
      "Successfully built pyopenjtalk\r\n",
      "Installing collected packages: pyopenjtalk\r\n",
      "Successfully installed pyopenjtalk-0.1.3\r\n",
      "\u001b[33mWARNING: Running pip as the 'root' user can result in broken permissions and conflicting behaviour with the system package manager. It is recommended to use a virtual environment instead: https://pip.pypa.io/warnings/venv\u001b[0m\u001b[33m\r\n",
      "\u001b[0mNote: you may need to restart the kernel to use updated packages.\n"
     ]
    }
   ],
   "source": [
    "%pip install pyopenjtalk==0.1.3"
   ]
  },
  {
   "cell_type": "markdown",
   "id": "c3edf0f0",
   "metadata": {
    "papermill": {
     "duration": 0.067187,
     "end_time": "2022-08-09T13:09:18.252562",
     "exception": false,
     "start_time": "2022-08-09T13:09:18.185375",
     "status": "completed"
    },
    "pycharm": {
     "name": "#%% md\n"
    },
    "tags": []
   },
   "source": [
    "# Copy dataset"
   ]
  },
  {
   "cell_type": "code",
   "execution_count": 3,
   "id": "5e8fd0bc",
   "metadata": {
    "collapsed": false,
    "execution": {
     "iopub.execute_input": "2022-08-09T13:09:18.392106Z",
     "iopub.status.busy": "2022-08-09T13:09:18.391747Z",
     "iopub.status.idle": "2022-08-09T13:11:42.754701Z",
     "shell.execute_reply": "2022-08-09T13:11:42.753328Z"
    },
    "jupyter": {
     "outputs_hidden": false
    },
    "papermill": {
     "duration": 144.435682,
     "end_time": "2022-08-09T13:11:42.757254",
     "exception": false,
     "start_time": "2022-08-09T13:09:18.321572",
     "status": "completed"
    },
    "pycharm": {
     "name": "#%%\n"
    },
    "tags": []
   },
   "outputs": [],
   "source": [
    "!cp -r /kaggle/input/yosugaharuka/* ./\n",
    "!cp -r /kaggle/input/filelists/* ./filelists/"
   ]
  },
  {
   "cell_type": "markdown",
   "id": "2d1d8695",
   "metadata": {
    "id": "LY9d2hgjmYUF",
    "papermill": {
     "duration": 0.068738,
     "end_time": "2022-08-09T13:11:42.895626",
     "exception": false,
     "start_time": "2022-08-09T13:11:42.826888",
     "status": "completed"
    },
    "pycharm": {
     "name": "#%% md\n"
    },
    "tags": []
   },
   "source": [
    "# Alignment"
   ]
  },
  {
   "cell_type": "code",
   "execution_count": 4,
   "id": "7c7b354b",
   "metadata": {
    "execution": {
     "iopub.execute_input": "2022-08-09T13:11:43.035887Z",
     "iopub.status.busy": "2022-08-09T13:11:43.034859Z",
     "iopub.status.idle": "2022-08-09T13:11:50.137534Z",
     "shell.execute_reply": "2022-08-09T13:11:50.135857Z"
    },
    "executionInfo": {
     "elapsed": 4802,
     "status": "ok",
     "timestamp": 1659462298052,
     "user": {
      "displayName": "章政",
      "userId": "17693849672782836082"
     },
     "user_tz": -480
    },
    "id": "LOsV22D8IUTS",
    "outputId": "8b9b7c35-e869-4af5-a8eb-9e6eee11fa7c",
    "papermill": {
     "duration": 7.176934,
     "end_time": "2022-08-09T13:11:50.139796",
     "exception": false,
     "start_time": "2022-08-09T13:11:42.962862",
     "status": "completed"
    },
    "pycharm": {
     "name": "#%%\n"
    },
    "tags": []
   },
   "outputs": [
    {
     "name": "stdout",
     "output_type": "stream",
     "text": [
      "/kaggle/working/VITS_Japanese/monotonic_align\n",
      "Compiling core.pyx because it changed.\r\n",
      "[1/1] Cythonizing core.pyx\r\n",
      "/opt/conda/lib/python3.7/site-packages/Cython/Compiler/Main.py:369: FutureWarning: Cython directive 'language_level' not set, using 2 for now (Py2). This will change in a later release! File: /kaggle/working/VITS_Japanese/monotonic_align/core.pyx\r\n",
      "  tree = Parsing.p_module(s, pxd, full_module_name)\r\n",
      "running build_ext\r\n",
      "building 'monotonic_align.core' extension\r\n",
      "creating build\r\n",
      "creating build/temp.linux-x86_64-3.7\r\n",
      "gcc -pthread -B /opt/conda/compiler_compat -Wl,--sysroot=/ -Wsign-compare -DNDEBUG -g -fwrapv -O3 -Wall -Wstrict-prototypes -fPIC -I/opt/conda/lib/python3.7/site-packages/numpy/core/include -I/opt/conda/include/python3.7m -c core.c -o build/temp.linux-x86_64-3.7/core.o\r\n",
      "creating /kaggle/working/VITS_Japanese/monotonic_align/monotonic_align\r\n",
      "gcc -pthread -shared -B /opt/conda/compiler_compat -L/opt/conda/lib -Wl,-rpath=/opt/conda/lib -Wl,--no-as-needed -Wl,--sysroot=/ build/temp.linux-x86_64-3.7/core.o -o /kaggle/working/VITS_Japanese/monotonic_align/monotonic_align/core.cpython-37m-x86_64-linux-gnu.so\r\n",
      "/kaggle/working/VITS_Japanese\n"
     ]
    }
   ],
   "source": [
    "%cd monotonic_align\n",
    "!python setup.py build_ext --inplace\n",
    "%cd .."
   ]
  },
  {
   "cell_type": "markdown",
   "id": "77711003",
   "metadata": {
    "id": "gjIAR_UsmPEz",
    "papermill": {
     "duration": 0.067643,
     "end_time": "2022-08-09T13:11:50.277086",
     "exception": false,
     "start_time": "2022-08-09T13:11:50.209443",
     "status": "completed"
    },
    "pycharm": {
     "name": "#%% md\n"
    },
    "tags": []
   },
   "source": [
    "# Train"
   ]
  },
  {
   "cell_type": "code",
   "execution_count": 5,
   "id": "89b97a23",
   "metadata": {
    "execution": {
     "iopub.execute_input": "2022-08-09T13:11:50.414101Z",
     "iopub.status.busy": "2022-08-09T13:11:50.413738Z",
     "iopub.status.idle": "2022-08-09T13:11:51.431957Z",
     "shell.execute_reply": "2022-08-09T13:11:51.430811Z"
    },
    "papermill": {
     "duration": 1.0892,
     "end_time": "2022-08-09T13:11:51.434249",
     "exception": false,
     "start_time": "2022-08-09T13:11:50.345049",
     "status": "completed"
    },
    "tags": []
   },
   "outputs": [
    {
     "name": "stdout",
     "output_type": "stream",
     "text": [
      "Tue Aug  9 13:11:51 2022       \r\n",
      "+-----------------------------------------------------------------------------+\r\n",
      "| NVIDIA-SMI 470.82.01    Driver Version: 470.82.01    CUDA Version: 11.4     |\r\n",
      "|-------------------------------+----------------------+----------------------+\r\n",
      "| GPU  Name        Persistence-M| Bus-Id        Disp.A | Volatile Uncorr. ECC |\r\n",
      "| Fan  Temp  Perf  Pwr:Usage/Cap|         Memory-Usage | GPU-Util  Compute M. |\r\n",
      "|                               |                      |               MIG M. |\r\n",
      "|===============================+======================+======================|\r\n",
      "|   0  Tesla P100-PCIE...  Off  | 00000000:00:04.0 Off |                    0 |\r\n",
      "| N/A   34C    P0    26W / 250W |      0MiB / 16280MiB |      0%      Default |\r\n",
      "|                               |                      |                  N/A |\r\n",
      "+-------------------------------+----------------------+----------------------+\r\n",
      "                                                                               \r\n",
      "+-----------------------------------------------------------------------------+\r\n",
      "| Processes:                                                                  |\r\n",
      "|  GPU   GI   CI        PID   Type   Process name                  GPU Memory |\r\n",
      "|        ID   ID                                                   Usage      |\r\n",
      "|=============================================================================|\r\n",
      "|  No running processes found                                                 |\r\n",
      "+-----------------------------------------------------------------------------+\r\n"
     ]
    }
   ],
   "source": [
    "! /opt/bin/nvidia-smi"
   ]
  },
  {
   "cell_type": "code",
   "execution_count": 6,
   "id": "ac311090",
   "metadata": {
    "execution": {
     "iopub.execute_input": "2022-08-09T13:11:51.586389Z",
     "iopub.status.busy": "2022-08-09T13:11:51.586013Z",
     "iopub.status.idle": "2022-08-09T13:14:34.181033Z",
     "shell.execute_reply": "2022-08-09T13:14:34.179777Z"
    },
    "executionInfo": {
     "elapsed": 245907,
     "status": "ok",
     "timestamp": 1659464394347,
     "user": {
      "displayName": "章政",
      "userId": "17693849672782836082"
     },
     "user_tz": -480
    },
    "id": "ltU2JXpxIh-K",
    "outputId": "13573700-ca5d-4bd1-ebbc-966c059e1327",
    "papermill": {
     "duration": 162.680213,
     "end_time": "2022-08-09T13:14:34.183623",
     "exception": false,
     "start_time": "2022-08-09T13:11:51.503410",
     "status": "completed"
    },
    "pycharm": {
     "name": "#%%\n"
    },
    "tags": []
   },
   "outputs": [
    {
     "name": "stdout",
     "output_type": "stream",
     "text": [
      "[INFO] {'train': {'log_interval': 200, 'eval_interval': 1000, 'seed': 1234, 'epochs': 10000, 'learning_rate': 0.0002, 'betas': [0.8, 0.99], 'eps': 1e-09, 'batch_size': 32, 'fp16_run': True, 'lr_decay': 0.999875, 'segment_size': 8192, 'init_lr_ratio': 1, 'warmup_epochs': 0, 'c_mel': 45, 'c_kl': 1.0}, 'data': {'training_files': 'filelists/train_filelist.txt', 'validation_files': 'filelists/val_filelist.txt', 'text_cleaners': ['japanese_cleaners'], 'max_wav_value': 32768.0, 'sampling_rate': 22050, 'filter_length': 1024, 'hop_length': 256, 'win_length': 1024, 'n_mel_channels': 80, 'mel_fmin': 0.0, 'mel_fmax': None, 'add_blank': True, 'n_speakers': 7, 'cleaned_text': False}, 'model': {'inter_channels': 192, 'hidden_channels': 192, 'filter_channels': 768, 'n_heads': 2, 'n_layers': 6, 'kernel_size': 3, 'p_dropout': 0.1, 'resblock': '1', 'resblock_kernel_sizes': [3, 7, 11], 'resblock_dilation_sizes': [[1, 3, 5], [1, 3, 5], [1, 3, 5]], 'upsample_rates': [8, 8, 2, 2], 'upsample_initial_channel': 512, 'upsample_kernel_sizes': [16, 16, 4, 4], 'n_layers_q': 3, 'use_spectral_norm': False, 'gin_channels': 256}, 'model_dir': './logs/yosuga_base'}\r\n",
      "Downloading: \"https://downloads.sourceforge.net/open-jtalk/open_jtalk_dic_utf_8-1.11.tar.gz\"\r\n",
      "Downloading: \"https://downloads.sourceforge.net/open-jtalk/open_jtalk_dic_utf_8-1.11.tar.gz\"\r\n",
      "Downloading: \"https://downloads.sourceforge.net/open-jtalk/open_jtalk_dic_utf_8-1.11.tar.gz\"\r\n",
      "Downloading: \"https://downloads.sourceforge.net/open-jtalk/open_jtalk_dic_utf_8-1.11.tar.gz\"\r\n",
      "Downloading: \"https://downloads.sourceforge.net/open-jtalk/open_jtalk_dic_utf_8-1.11.tar.gz\"\r\n",
      "Downloading: \"https://downloads.sourceforge.net/open-jtalk/open_jtalk_dic_utf_8-1.11.tar.gz\"\r\n",
      "Downloading: \"https://downloads.sourceforge.net/open-jtalk/open_jtalk_dic_utf_8-1.11.tar.gz\"\r\n",
      "Downloading: \"https://downloads.sourceforge.net/open-jtalk/open_jtalk_dic_utf_8-1.11.tar.gz\"\r\n",
      "Extracting tar file /opt/conda/lib/python3.7/site-packages/pyopenjtalk/dic.tar.gz\r\n",
      "WARNING: JPCommonLabel_insert_word() in jpcommon_label.c: First mora should not be short pause.\r\n",
      "Extracting tar file /opt/conda/lib/python3.7/site-packages/pyopenjtalk/dic.tar.gz\r\n",
      "WARNING: JPCommonLabel_insert_word() in jpcommon_label.c: First mora should not be short pause.\r\n",
      "WARNING: JPCommonLabel_insert_word() in jpcommon_label.c: First mora should not be short pause.\r\n",
      "WARNING: JPCommonLabel_insert_word() in jpcommon_label.c: First mora should not be short pause.\r\n",
      "Extracting tar file /opt/conda/lib/python3.7/site-packages/pyopenjtalk/dic.tar.gz\r\n",
      "WARNING: JPCommonLabel_insert_word() in jpcommon_label.c: First mora should not be short pause.\r\n",
      "Extracting tar file /opt/conda/lib/python3.7/site-packages/pyopenjtalk/dic.tar.gz\r\n",
      "ERROR: Unexpected bus error encountered in worker. This might be caused by insufficient shared memory (shm).\r\n",
      "\u0000Exception in thread Thread-3:\r\n",
      "Traceback (most recent call last):\r\n",
      "  File \"/opt/conda/lib/python3.7/threading.py\", line 926, in _bootstrap_inner\r\n",
      "    self.run()\r\n",
      "  File \"/opt/conda/lib/python3.7/threading.py\", line 870, in run\r\n",
      "    self._target(*self._args, **self._kwargs)\r\n",
      "  File \"/opt/conda/lib/python3.7/site-packages/torch/utils/data/_utils/pin_memory.py\", line 25, in _pin_memory_loop\r\n",
      "    r = in_queue.get(timeout=MP_STATUS_CHECK_INTERVAL)\r\n",
      "  File \"/opt/conda/lib/python3.7/multiprocessing/queues.py\", line 113, in get\r\n",
      "    return _ForkingPickler.loads(res)\r\n",
      "  File \"/opt/conda/lib/python3.7/site-packages/torch/multiprocessing/reductions.py\", line 282, in rebuild_storage_fd\r\n",
      "    fd = df.detach()\r\n",
      "  File \"/opt/conda/lib/python3.7/multiprocessing/resource_sharer.py\", line 57, in detach\r\n",
      "    with _resource_sharer.get_connection(self._id) as conn:\r\n",
      "  File \"/opt/conda/lib/python3.7/multiprocessing/resource_sharer.py\", line 87, in get_connection\r\n",
      "    c = Client(address, authkey=process.current_process().authkey)\r\n",
      "  File \"/opt/conda/lib/python3.7/multiprocessing/connection.py\", line 498, in Client\r\n",
      "    answer_challenge(c, authkey)\r\n",
      "  File \"/opt/conda/lib/python3.7/multiprocessing/connection.py\", line 747, in answer_challenge\r\n",
      "    response = connection.recv_bytes(256)        # reject large message\r\n",
      "  File \"/opt/conda/lib/python3.7/multiprocessing/connection.py\", line 216, in recv_bytes\r\n",
      "    buf = self._recv_bytes(maxlength)\r\n",
      "  File \"/opt/conda/lib/python3.7/multiprocessing/connection.py\", line 407, in _recv_bytes\r\n",
      "    buf = self._recv(4)\r\n",
      "  File \"/opt/conda/lib/python3.7/multiprocessing/connection.py\", line 379, in _recv\r\n",
      "    chunk = read(handle, remaining)\r\n",
      "ConnectionResetError: [Errno 104] Connection reset by peer\r\n",
      "\r\n",
      "\u001b[0m\u001b[0mWARNING: JPCommonLabel_insert_word() in jpcommon_label.c: First mora should not be short pause.\r\n",
      "\u001b[0mExtracting tar file /opt/conda/lib/python3.7/site-packages/pyopenjtalk/dic.tar.gz\r\n",
      "WARNING: JPCommonLabel_insert_word() in jpcommon_label.c: First mora should not be short pause.\r\n",
      "\u001b[0mExtracting tar file /opt/conda/lib/python3.7/site-packages/pyopenjtalk/dic.tar.gz\r\n",
      "WARNING: JPCommonLabel_insert_word() in jpcommon_label.c: First mora should not be short pause.\r\n",
      "\u001b[0mExtracting tar file /opt/conda/lib/python3.7/site-packages/pyopenjtalk/dic.tar.gz\r\n",
      "\u001b[0mExtracting tar file /opt/conda/lib/python3.7/site-packages/pyopenjtalk/dic.tar.gz\r\n",
      "\u001b[0mTraceback (most recent call last):\r\n",
      "  File \"train_ms.py\", line 299, in <module>\r\n",
      "    main()\r\n",
      "  File \"train_ms.py\", line 55, in main\r\n",
      "    mp.spawn(run, nprocs=n_gpus, args=(n_gpus, hps,))\r\n",
      "  File \"/opt/conda/lib/python3.7/site-packages/torch/multiprocessing/spawn.py\", line 200, in spawn\r\n",
      "    return start_processes(fn, args, nprocs, join, daemon, start_method='spawn')\r\n",
      "  File \"/opt/conda/lib/python3.7/site-packages/torch/multiprocessing/spawn.py\", line 158, in start_processes\r\n",
      "    while not context.join():\r\n",
      "  File \"/opt/conda/lib/python3.7/site-packages/torch/multiprocessing/spawn.py\", line 119, in join\r\n",
      "    raise Exception(msg)\r\n",
      "Exception: \r\n",
      "\r\n",
      "-- Process 0 terminated with the following error:\r\n",
      "Traceback (most recent call last):\r\n",
      "  File \"/opt/conda/lib/python3.7/site-packages/torch/multiprocessing/spawn.py\", line 20, in _wrap\r\n",
      "    fn(i, *args)\r\n",
      "  File \"/kaggle/working/VITS_Japanese/train_ms.py\", line 123, in run\r\n",
      "    train_and_evaluate(rank, epoch, hps, [net_g, net_d], [optim_g, optim_d], [scheduler_g, scheduler_d], scaler, [train_loader, eval_loader], logger, [writer, writer_eval])\r\n",
      "  File \"/kaggle/working/VITS_Japanese/train_ms.py\", line 151, in train_and_evaluate\r\n",
      "    (z, z_p, m_p, logs_p, m_q, logs_q) = net_g(x, x_lengths, spec, spec_lengths, speakers)\r\n",
      "  File \"/opt/conda/lib/python3.7/site-packages/torch/nn/modules/module.py\", line 722, in _call_impl\r\n",
      "    result = self.forward(*input, **kwargs)\r\n",
      "  File \"/opt/conda/lib/python3.7/site-packages/torch/nn/parallel/distributed.py\", line 511, in forward\r\n",
      "    output = self.module(*inputs[0], **kwargs[0])\r\n",
      "  File \"/opt/conda/lib/python3.7/site-packages/torch/nn/modules/module.py\", line 722, in _call_impl\r\n",
      "    result = self.forward(*input, **kwargs)\r\n",
      "  File \"/kaggle/working/VITS_Japanese/models.py\", line 461, in forward\r\n",
      "    x, m_p, logs_p, x_mask = self.enc_p(x, x_lengths)\r\n",
      "  File \"/opt/conda/lib/python3.7/site-packages/torch/nn/modules/module.py\", line 722, in _call_impl\r\n",
      "    result = self.forward(*input, **kwargs)\r\n",
      "  File \"/kaggle/working/VITS_Japanese/models.py\", line 172, in forward\r\n",
      "    x = self.encoder(x * x_mask, x_mask)\r\n",
      "  File \"/opt/conda/lib/python3.7/site-packages/torch/nn/modules/module.py\", line 722, in _call_impl\r\n",
      "    result = self.forward(*input, **kwargs)\r\n",
      "  File \"/kaggle/working/VITS_Japanese/attentions.py\", line 43, in forward\r\n",
      "    y = self.ffn_layers[i](x, x_mask)\r\n",
      "  File \"/opt/conda/lib/python3.7/site-packages/torch/nn/modules/module.py\", line 722, in _call_impl\r\n",
      "    result = self.forward(*input, **kwargs)\r\n",
      "  File \"/kaggle/working/VITS_Japanese/attentions.py\", line 284, in forward\r\n",
      "    x = self.conv_2(self.padding(x * x_mask))\r\n",
      "  File \"/opt/conda/lib/python3.7/site-packages/torch/nn/modules/module.py\", line 722, in _call_impl\r\n",
      "    result = self.forward(*input, **kwargs)\r\n",
      "  File \"/opt/conda/lib/python3.7/site-packages/torch/nn/modules/conv.py\", line 257, in forward\r\n",
      "    self.padding, self.dilation, self.groups)\r\n",
      "  File \"/opt/conda/lib/python3.7/site-packages/torch/utils/data/_utils/signal_handling.py\", line 66, in handler\r\n",
      "    _error_if_any_worker_fails()\r\n",
      "RuntimeError: DataLoader worker (pid 633) is killed by signal: Bus error. It is possible that dataloader's workers are out of shared memory. Please try to raise your shared memory limit.\r\n",
      "\r\n",
      "\u001b[0m"
     ]
    }
   ],
   "source": [
    "!python train_ms.py -c configs/yosuga_base.json -m yosuga_base"
   ]
  }
 ],
 "metadata": {
  "kernelspec": {
   "display_name": "Python 3",
   "language": "python",
   "name": "python3"
  },
  "language_info": {
   "codemirror_mode": {
    "name": "ipython",
    "version": 3
   },
   "file_extension": ".py",
   "mimetype": "text/x-python",
   "name": "python",
   "nbconvert_exporter": "python",
   "pygments_lexer": "ipython3",
   "version": "3.7.12"
  },
  "papermill": {
   "default_parameters": {},
   "duration": 572.652411,
   "end_time": "2022-08-09T13:14:34.882952",
   "environment_variables": {},
   "exception": null,
   "input_path": "__notebook__.ipynb",
   "output_path": "__notebook__.ipynb",
   "parameters": {},
   "start_time": "2022-08-09T13:05:02.230541",
   "version": "2.3.4"
  }
 },
 "nbformat": 4,
 "nbformat_minor": 5
}
