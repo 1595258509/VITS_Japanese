{
 "cells": [
  {
   "cell_type": "markdown",
   "id": "8a129568",
   "metadata": {
    "id": "65CU-n-JHhbY",
    "papermill": {
     "duration": 0.003644,
     "end_time": "2022-08-10T14:56:04.386149",
     "exception": false,
     "start_time": "2022-08-10T14:56:04.382505",
     "status": "completed"
    },
    "pycharm": {
     "name": "#%% md\n"
    },
    "tags": []
   },
   "source": [
    "# Clone repository"
   ]
  },
  {
   "cell_type": "code",
   "execution_count": null,
   "id": "9ae58596",
   "metadata": {
    "execution": {
     "iopub.execute_input": "2022-08-10T14:56:04.394026Z",
     "iopub.status.busy": "2022-08-10T14:56:04.393147Z",
     "iopub.status.idle": "2022-08-10T14:58:21.360748Z",
     "shell.execute_reply": "2022-08-10T14:58:21.359539Z"
    },
    "executionInfo": {
     "elapsed": 198272,
     "status": "ok",
     "timestamp": 1659461977037,
     "user": {
      "displayName": "章政",
      "userId": "17693849672782836082"
     },
     "user_tz": -480
    },
    "id": "i_0vZ-OjHVNu",
    "outputId": "52655c4e-699c-465a-ce12-9cef24aa8a1e",
    "papermill": {
     "duration": 136.974956,
     "end_time": "2022-08-10T14:58:21.363926",
     "exception": false,
     "start_time": "2022-08-10T14:56:04.388970",
     "status": "completed"
    },
    "pycharm": {
     "name": "#%%\n"
    },
    "tags": []
   },
   "outputs": [],
   "source": [
    "!git clone https://github.com/1595258509/VITS_Japanese.git\n",
    "%cd VITS_Japanese\n",
    "%pip install Cython==0.29.21 librosa==0.8.0 matplotlib==3.3.1 numpy==1.21.6 phonemizer==2.2.1 scipy==1.5.2 tensorboard==2.3.0 torch torchvision Unidecode==1.1.1 pyopenjtalk==0.1.3 jamo==0.4.1\n",
    "!sudo apt-get install espeak -y"
   ]
  },
  {
   "cell_type": "code",
   "execution_count": null,
   "id": "e8b7c669",
   "metadata": {
    "execution": {
     "iopub.execute_input": "2022-08-10T14:58:21.393885Z",
     "iopub.status.busy": "2022-08-10T14:58:21.393528Z",
     "iopub.status.idle": "2022-08-10T14:58:31.405908Z",
     "shell.execute_reply": "2022-08-10T14:58:31.404517Z"
    },
    "papermill": {
     "duration": 10.030366,
     "end_time": "2022-08-10T14:58:31.408731",
     "exception": false,
     "start_time": "2022-08-10T14:58:21.378365",
     "status": "completed"
    },
    "tags": [],
    "pycharm": {
     "name": "#%%\n"
    }
   },
   "outputs": [],
   "source": [
    "%pip install pyopenjtalk==0.1.3"
   ]
  },
  {
   "cell_type": "markdown",
   "id": "3b44d6bd",
   "metadata": {
    "papermill": {
     "duration": 0.014727,
     "end_time": "2022-08-10T14:58:31.438360",
     "exception": false,
     "start_time": "2022-08-10T14:58:31.423633",
     "status": "completed"
    },
    "pycharm": {
     "name": "#%% md\n"
    },
    "tags": []
   },
   "source": [
    "# Copy dataset"
   ]
  },
  {
   "cell_type": "code",
   "execution_count": null,
   "id": "f98c5c1e",
   "metadata": {
    "collapsed": false,
    "execution": {
     "iopub.execute_input": "2022-08-10T14:58:31.468838Z",
     "iopub.status.busy": "2022-08-10T14:58:31.468490Z",
     "iopub.status.idle": "2022-08-10T15:01:39.999650Z",
     "shell.execute_reply": "2022-08-10T15:01:39.998168Z"
    },
    "jupyter": {
     "outputs_hidden": false
    },
    "papermill": {
     "duration": 188.54959,
     "end_time": "2022-08-10T15:01:40.002462",
     "exception": false,
     "start_time": "2022-08-10T14:58:31.452872",
     "status": "completed"
    },
    "pycharm": {
     "name": "#%%\n"
    },
    "tags": []
   },
   "outputs": [],
   "source": [
    "!cp -r /kaggle/input/yosugaharuka/* ./\n",
    "!cp -r /kaggle/input/vits-logs/* ./\n",
    "#!cp -r /kaggle/input/filelists/* ./filelists/"
   ]
  },
  {
   "cell_type": "markdown",
   "id": "3212d939",
   "metadata": {
    "id": "LY9d2hgjmYUF",
    "papermill": {
     "duration": 0.01535,
     "end_time": "2022-08-10T15:01:40.035168",
     "exception": false,
     "start_time": "2022-08-10T15:01:40.019818",
     "status": "completed"
    },
    "pycharm": {
     "name": "#%% md\n"
    },
    "tags": []
   },
   "source": [
    "# Alignment"
   ]
  },
  {
   "cell_type": "code",
   "execution_count": null,
   "id": "3a1bff6a",
   "metadata": {
    "execution": {
     "iopub.execute_input": "2022-08-10T15:01:40.068895Z",
     "iopub.status.busy": "2022-08-10T15:01:40.067890Z",
     "iopub.status.idle": "2022-08-10T15:01:48.210134Z",
     "shell.execute_reply": "2022-08-10T15:01:48.208716Z"
    },
    "executionInfo": {
     "elapsed": 4802,
     "status": "ok",
     "timestamp": 1659462298052,
     "user": {
      "displayName": "章政",
      "userId": "17693849672782836082"
     },
     "user_tz": -480
    },
    "id": "LOsV22D8IUTS",
    "outputId": "8b9b7c35-e869-4af5-a8eb-9e6eee11fa7c",
    "papermill": {
     "duration": 8.161751,
     "end_time": "2022-08-10T15:01:48.212824",
     "exception": false,
     "start_time": "2022-08-10T15:01:40.051073",
     "status": "completed"
    },
    "pycharm": {
     "name": "#%%\n"
    },
    "tags": []
   },
   "outputs": [],
   "source": [
    "%cd monotonic_align\n",
    "!python setup.py build_ext --inplace\n",
    "%cd .."
   ]
  },
  {
   "cell_type": "markdown",
   "id": "9567eddc",
   "metadata": {
    "id": "gjIAR_UsmPEz",
    "papermill": {
     "duration": 0.028878,
     "end_time": "2022-08-10T15:01:48.268991",
     "exception": false,
     "start_time": "2022-08-10T15:01:48.240113",
     "status": "completed"
    },
    "pycharm": {
     "name": "#%% md\n"
    },
    "tags": []
   },
   "source": [
    "# Train"
   ]
  },
  {
   "cell_type": "code",
   "execution_count": null,
   "id": "314a2830",
   "metadata": {
    "execution": {
     "iopub.execute_input": "2022-08-10T15:01:48.317669Z",
     "iopub.status.busy": "2022-08-10T15:01:48.317241Z",
     "iopub.status.idle": "2022-08-10T15:01:49.516103Z",
     "shell.execute_reply": "2022-08-10T15:01:49.514739Z"
    },
    "papermill": {
     "duration": 1.226619,
     "end_time": "2022-08-10T15:01:49.519151",
     "exception": false,
     "start_time": "2022-08-10T15:01:48.292532",
     "status": "completed"
    },
    "tags": [],
    "pycharm": {
     "name": "#%%\n"
    }
   },
   "outputs": [],
   "source": [
    "! /opt/bin/nvidia-smi"
   ]
  },
  {
   "cell_type": "code",
   "execution_count": null,
   "id": "3d017ecd",
   "metadata": {
    "execution": {
     "iopub.execute_input": "2022-08-10T15:01:49.551620Z",
     "iopub.status.busy": "2022-08-10T15:01:49.551277Z",
     "iopub.status.idle": "2022-08-10T15:04:26.598816Z",
     "shell.execute_reply": "2022-08-10T15:04:26.597594Z"
    },
    "executionInfo": {
     "elapsed": 245907,
     "status": "ok",
     "timestamp": 1659464394347,
     "user": {
      "displayName": "章政",
      "userId": "17693849672782836082"
     },
     "user_tz": -480
    },
    "id": "ltU2JXpxIh-K",
    "outputId": "13573700-ca5d-4bd1-ebbc-966c059e1327",
    "papermill": {
     "duration": 157.066464,
     "end_time": "2022-08-10T15:04:26.601366",
     "exception": false,
     "start_time": "2022-08-10T15:01:49.534902",
     "status": "completed"
    },
    "pycharm": {
     "name": "#%%\n"
    },
    "tags": []
   },
   "outputs": [],
   "source": [
    "!python train_ms.py -c configs/yosuga_base.json -m yosuga_base"
   ]
  }
 ],
 "metadata": {
  "kernelspec": {
   "display_name": "Python 3",
   "language": "python",
   "name": "python3"
  },
  "language_info": {
   "codemirror_mode": {
    "name": "ipython",
    "version": 3
   },
   "file_extension": ".py",
   "mimetype": "text/x-python",
   "name": "python",
   "nbconvert_exporter": "python",
   "pygments_lexer": "ipython3",
   "version": "3.7.12"
  },
  "papermill": {
   "default_parameters": {},
   "duration": 510.747348,
   "end_time": "2022-08-10T15:04:27.141581",
   "environment_variables": {},
   "exception": null,
   "input_path": "__notebook__.ipynb",
   "output_path": "__notebook__.ipynb",
   "parameters": {},
   "start_time": "2022-08-10T14:55:56.394233",
   "version": "2.3.4"
  }
 },
 "nbformat": 4,
 "nbformat_minor": 5
}