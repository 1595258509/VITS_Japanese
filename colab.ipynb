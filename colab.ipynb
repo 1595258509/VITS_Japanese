{
 "cells": [
  {
   "cell_type": "markdown",
   "metadata": {
    "id": "65CU-n-JHhbY",
    "pycharm": {
     "name": "#%% md\n"
    }
   },
   "source": [
    "# Environment Configuration"
   ]
  },
  {
   "cell_type": "code",
   "execution_count": null,
   "outputs": [],
   "source": [
    "!git clone https://github.com/1595258509/VITS_Japanese.git\n",
    "%cd VITS_Japanese\n",
    "%pip install -r requirements.txt\n",
    "!sudo apt-get install espeak -y"
   ],
   "metadata": {
    "collapsed": false,
    "pycharm": {
     "name": "#%%\n"
    }
   }
  },
  {
   "cell_type": "code",
   "execution_count": null,
   "outputs": [],
   "source": [
    "%cd monotonic_align\n",
    "!python setup.py build_ext --inplace\n",
    "%cd .."
   ],
   "metadata": {
    "collapsed": false,
    "pycharm": {
     "name": "#%%\n"
    }
   }
  },
  {
   "cell_type": "markdown",
   "source": [
    "# Mount Google Drive"
   ],
   "metadata": {
    "collapsed": false,
    "pycharm": {
     "name": "#%% md\n"
    }
   }
  },
  {
   "cell_type": "code",
   "execution_count": null,
   "outputs": [],
   "source": [
    "from google.colab import drive\n",
    "drive.mount('/content/drive')"
   ],
   "metadata": {
    "collapsed": false,
    "pycharm": {
     "name": "#%%\n"
    }
   }
  },
  {
   "cell_type": "markdown",
   "source": [
    "# Unpack dataset"
   ],
   "metadata": {
    "collapsed": false,
    "pycharm": {
     "name": "#%% md\n"
    }
   }
  },
  {
   "cell_type": "code",
   "execution_count": null,
   "outputs": [],
   "source": [
    "api_token = {\"username\":\"murlors\",\"key\":\"71cb88bec124c1ef87c68f148fb7bb34\"}\n",
    "import json\n",
    "import zipfile\n",
    "import os\n",
    " \n",
    "if not os.path.exists(\"/root/.kaggle\"):\n",
    "    os.makedirs(\"/root/.kaggle\")\n",
    "with open('/root/.kaggle/kaggle.json', 'w') as file:\n",
    "    json.dump(api_token, file)\n",
    "!chmod 600 /root/.kaggle/kaggle.json\n",
    "\n",
    "%cd /content/VITS_Japanese\n",
    "\n",
    "!kaggle datasets download -d murlors/yosugaharuka --force"
   ],
   "metadata": {
    "collapsed": false,
    "pycharm": {
     "name": "#%%\n"
    }
   }
  },
  {
   "cell_type": "code",
   "execution_count": null,
   "outputs": [],
   "source": [
    "!unzip yosugaharuka.zip\n",
    "!rm -rf yosugaharuka.zip"
   ],
   "metadata": {
    "collapsed": false,
    "pycharm": {
     "name": "#%%\n"
    }
   }
  },
  {
   "cell_type": "markdown",
   "source": [
    "# Train"
   ],
   "metadata": {
    "collapsed": false,
    "pycharm": {
     "name": "#%% md\n"
    }
   }
  },
  {
   "cell_type": "code",
   "execution_count": null,
   "outputs": [],
   "source": [
    "import torch\n",
    "print(torch.__version__)"
   ],
   "metadata": {
    "collapsed": false,
    "pycharm": {
     "name": "#%%\n"
    }
   }
  },
  {
   "cell_type": "code",
   "execution_count": null,
   "outputs": [],
   "source": [
    "!/opt/bin/nvidia-smi"
   ],
   "metadata": {
    "collapsed": false,
    "pycharm": {
     "name": "#%%\n"
    }
   }
  },
  {
   "cell_type": "code",
   "execution_count": null,
   "outputs": [],
   "source": [
    "%load_ext tensorboard\n",
    "%tensorboard --logdir=/content/drive/MyDrive/yosuga_base"
   ],
   "metadata": {
    "collapsed": false,
    "pycharm": {
     "name": "#%%\n"
    }
   }
  },
  {
   "cell_type": "code",
   "execution_count": null,
   "outputs": [],
   "source": [
    "!python train_ms.py -c configs/yosuga_base.json -m yosuga_base"
   ],
   "metadata": {
    "collapsed": false,
    "pycharm": {
     "name": "#%%\n"
    }
   }
  },
  {
   "cell_type": "markdown",
   "source": [
    "# Text to Speech"
   ],
   "metadata": {
    "collapsed": false,
    "pycharm": {
     "name": "#%% md\n"
    }
   }
  },
  {
   "cell_type": "code",
   "execution_count": null,
   "outputs": [],
   "source": [
    "%matplotlib inline\n",
    "import matplotlib.pyplot as plt\n",
    "import IPython.display as ipd\n",
    "\n",
    "import os\n",
    "import json\n",
    "import math\n",
    "import torch\n",
    "from torch import nn\n",
    "from torch.nn import functional as F\n",
    "from torch.utils.data import DataLoader\n",
    "\n",
    "import commons\n",
    "import utils\n",
    "from data_utils import TextAudioLoader, TextAudioCollate, TextAudioSpeakerLoader, TextAudioSpeakerCollate\n",
    "from models import SynthesizerTrn\n",
    "from text.symbols import symbols\n",
    "from text import text_to_sequence\n",
    "\n",
    "from scipy.io.wavfile import write\n",
    "\n",
    "def get_text(text, hps):\n",
    "    text_norm = text_to_sequence(text, hps.data.text_cleaners)\n",
    "    if hps.data.add_blank:\n",
    "        text_norm = commons.intersperse(text_norm, 0)\n",
    "    text_norm = torch.LongTensor(text_norm)\n",
    "    return text_norm"
   ],
   "metadata": {
    "collapsed": false,
    "pycharm": {
     "name": "#%%\n"
    }
   }
  },
  {
   "cell_type": "code",
   "execution_count": null,
   "outputs": [],
   "source": [
    "hps_ms = utils.get_hparams_from_file(\"./configs/yosuga_base.json\")\n",
    "net_g_ms = SynthesizerTrn(\n",
    "    len(symbols),\n",
    "    hps_ms.data.filter_length // 2 + 1,\n",
    "    hps_ms.train.segment_size // hps_ms.data.hop_length,\n",
    "    n_speakers=hps_ms.data.n_speakers,\n",
    "    **hps_ms.model).cuda()\n",
    "_ = net_g_ms.eval()\n",
    "\n",
    "_ = utils.load_checkpoint(\"/content/drive/MyDrive/logs/yosuga_base/G_144000.pth\", net_g_ms, None)"
   ],
   "metadata": {
    "collapsed": false,
    "pycharm": {
     "name": "#%%\n"
    }
   }
  },
  {
   "cell_type": "markdown",
   "source": [
    "## Japanese"
   ],
   "metadata": {
    "collapsed": false,
    "pycharm": {
     "name": "#%% md\n"
    }
   }
  },
  {
   "cell_type": "code",
   "execution_count": null,
   "outputs": [],
   "source": [
    "speaker_id = \"0\" #@param [0, 1, 2, 3, 4, 5, 6]\n",
    "speaker_id = int(speaker_id)\n",
    "text = 'だめだね、だめよ、だめなのよ' #@param {type: 'string'}\n",
    "length_scale = 1.0 #@param {type:\"slider\", min:0.1, max:3, step:0.05}\n",
    "sid = torch.LongTensor([speaker_id])\n",
    "stn_tst = get_text(text, hps_ms)\n",
    "\n",
    "with torch.no_grad():\n",
    "    x_tst = stn_tst.cuda().unsqueeze(0)\n",
    "    x_tst_lengths = torch.LongTensor([stn_tst.size(0)]).cuda()\n",
    "    audio = net_g_ms.infer(x_tst, x_tst_lengths, sid=sid, noise_scale=.667, noise_scale_w=0.8, length_scale=length_scale)[0][0,0].data.cpu().float().numpy()\n",
    "ipd.display(ipd.Audio(audio, rate=hps_ms.data.sampling_rate))"
   ],
   "metadata": {
    "collapsed": false,
    "pycharm": {
     "name": "#%%\n"
    }
   }
  },
  {
   "cell_type": "markdown",
   "source": [
    "## Chinese(fake)"
   ],
   "metadata": {
    "collapsed": false,
    "pycharm": {
     "name": "#%% md\n"
    }
   }
  },
  {
   "cell_type": "code",
   "execution_count": null,
   "outputs": [],
   "source": [
    "import json\n",
    "import pypinyin\n",
    "\n",
    "# pinyin-to-katakana map\n",
    "map_path = 'text/py2kn.json'\n",
    "with open(map_path, 'r', encoding='utf-8') as f:\n",
    "  py2kn_map = json.load(f)\n",
    "\n",
    "def pinyin2kana(text_ch):\n",
    "  '''Pipeline for converting Chinese text to Japanese Romaji'''\n",
    "  # Chinese characters to pinyin\n",
    "  py_raw = pypinyin.pinyin(text_ch, style=pypinyin.NORMAL)\n",
    "  pys = []\n",
    "  for py in py_raw:\n",
    "    py[0] = py[0].replace('\\u200b', '') # 清除空字符\n",
    "    pys.append(py[0])\n",
    "\n",
    "  # katakana to romaji\n",
    "  text_jp = ''\n",
    "  for py in pys:\n",
    "    text_jp += ''.join(py2kn_map[py])\n",
    "\n",
    "  return text_jp\n",
    "\n",
    "\n",
    "speaker_id_ch = \"0\" #@param [0, 1, 2, 3, 4, 5, 6]\n",
    "speaker_id_ch = int(speaker_id_ch)\n",
    "\n",
    "text_ch = '你好，我是春日野穹。' #@param {type: 'string'}\n",
    "length_scale_ch = 1.0 #@param {type:\"slider\", min:0.1, max:3, step:0.05}\n",
    "\n",
    "text_jp = pinyin2kana(text_ch)\n",
    "sid_ch = torch.LongTensor([speaker_id_ch])\n",
    "stn_tst_ch = get_text(text_jp, hps_ms)\n",
    "\n",
    "with torch.no_grad():\n",
    "    x_tst_ch = stn_tst_ch.unsqueeze(0)\n",
    "    x_tst_ch_lengths = torch.LongTensor([stn_tst_ch.size(0)])\n",
    "    audio_ch = net_g_ms.infer(x_tst_ch, x_tst_ch_lengths, sid=sid_ch, noise_scale=.667, noise_scale_w=0.8, length_scale=length_scale_ch)[0][0,0].data.float().numpy()\n",
    "ipd.display(ipd.Audio(audio_ch, rate=hps_ms.data.sampling_rate))"
   ],
   "metadata": {
    "collapsed": false,
    "pycharm": {
     "name": "#%%\n"
    }
   }
  },
  {
   "cell_type": "markdown",
   "source": [
    "## Voice conversion"
   ],
   "metadata": {
    "collapsed": false,
    "pycharm": {
     "name": "#%% md\n"
    }
   }
  },
  {
   "cell_type": "code",
   "execution_count": null,
   "outputs": [],
   "source": [
    "from mel_processing import spectrogram_torch\n",
    "from utils import load_wav_to_torch\n",
    "\n",
    "speaker_id = 0\n",
    "audio, sampling_rate = load_wav_to_torch(\"./yosuga_wav/Kasugano_Sora/SR000023.wav\")\n",
    "\n",
    "y = audio / hps_ms.data.max_wav_value\n",
    "y = y.cuda().unsqueeze(0)\n",
    "\n",
    "spec = spectrogram_torch(y, hps_ms.data.filter_length,\n",
    "    hps_ms.data.sampling_rate, hps_ms.data.hop_length, hps_ms.data.win_length,\n",
    "    center=False)\n",
    "spec_lengths = torch.LongTensor([spec.size(-1)]).cuda()\n",
    "sid_src = torch.LongTensor([speaker_id]).cuda()"
   ],
   "metadata": {
    "collapsed": false,
    "pycharm": {
     "name": "#%%\n"
    }
   }
  },
  {
   "cell_type": "code",
   "execution_count": null,
   "outputs": [],
   "source": [
    "speaker_names = ['春日野穹','天女目瑛','依媛奈緒','渚一葉','乃木坂初佳','倉永梢','伊福部やひろ']\n",
    "with torch.no_grad():\n",
    "    sid_tgt = []\n",
    "    audio = []\n",
    "    for i, speaker_name in enumerate(speaker_names):\n",
    "      sid_tgt.append(torch.LongTensor([i]).cuda())\n",
    "      net_g_ms.voice_conversion(spec, spec_lengths, sid_src=sid_src, sid_tgt=sid_tgt[i])[0][0,0].data.cpu().float().numpy()\n",
    "print(\"Original SID: %d\" % sid_src.item())\n",
    "ipd.display(ipd.Audio(y[0].numpy(), rate=hps_ms.data.sampling_rate))\n",
    "for i, speaker_name in enumerate(speaker_names):\n",
    "  if i == speaker_id:\n",
    "    continue\n",
    "  print(\"Converted SID: %d %s\" % (sid_tgt[i].item(), speaker_name))\n",
    "  ipd.display(ipd.Audio(audio[i], rate=hps_ms.data.sampling_rate))"
   ],
   "metadata": {
    "collapsed": false,
    "pycharm": {
     "name": "#%%\n"
    }
   }
  },
  {
   "cell_type": "markdown",
   "source": [
    "## jtts"
   ],
   "metadata": {
    "collapsed": false,
    "pycharm": {
     "name": "#%% md\n"
    }
   }
  },
  {
   "cell_type": "code",
   "execution_count": null,
   "outputs": [],
   "source": [
    "def jtts(text):\n",
    "  stn_tst = get_text(text, hps_ms)\n",
    "  speaker_id = 5\n",
    "  with torch.no_grad():\n",
    "      x_tst = stn_tst.cuda().unsqueeze(0)\n",
    "      x_tst_lengths = torch.LongTensor([stn_tst.size(0)]).cuda()\n",
    "      sid = torch.LongTensor([speaker_id]).cuda()\n",
    "      audio = net_g_ms.infer(x_tst, x_tst_lengths, sid=sid, noise_scale=.667, noise_scale_w=0.8, length_scale=1)[0][0,0].data.cpu().float().numpy()\n",
    "  ipd.display(ipd.Audio(audio, rate=hps_ms.data.sampling_rate))"
   ],
   "metadata": {
    "collapsed": false,
    "pycharm": {
     "name": "#%%\n"
    }
   }
  },
  {
   "cell_type": "code",
   "execution_count": null,
   "outputs": [],
   "source": [
    "jtts(\"人類の偉大さは数字にこそあると言っていい。\")\n",
    "jtts(\"足し、引き、掛け、割り。\")\n",
    "jtts(\"そんな基本から、何かの大きさ、距離の長さ、\")\n",
    "jtts(\"全てを測定する。\")\n",
    "jtts(\"ありとあらゆる存在は数字なしではただの虚無なのだ。\")\n",
    "jtts(\"生は夏の花の如き、死は秋の叶の如く\")"
   ],
   "metadata": {
    "collapsed": false,
    "pycharm": {
     "name": "#%%\n"
    }
   }
  },
  {
   "cell_type": "code",
   "execution_count": null,
   "outputs": [],
   "source": [
    "jtts(\"吾輩は猫である。名前はまだない\")\n",
    "jtts(\"試験勉強頑張ってくださいね\")\n",
    "jtts(\"私の処女をもらってください\")\n",
    "jtts(\"なんでこんなに慣れてんのよ。私の方が先に好きだったのに\")\n",
    "jtts(\"大変に気分がいい\")\n",
    "jtts(\"私わあやちねねです\")\n",
    "jtts(\"私のおなにいを見ないでください!\")\n",
    "jtts(\"それわどうかな\")\n",
    "jtts(\"授業中に出したら、学校生活終わるなり\")"
   ],
   "metadata": {
    "collapsed": false,
    "pycharm": {
     "name": "#%%\n"
    }
   }
  },
  {
   "cell_type": "markdown",
   "metadata": {
    "id": "gjIAR_UsmPEz"
   },
   "source": [
    "# Train"
   ]
  },
  {
   "cell_type": "code",
   "execution_count": null,
   "metadata": {
    "colab": {
     "base_uri": "https://localhost:8080/"
    },
    "id": "bi8dJjj62kmr",
    "outputId": "7e5bf93c-fda0-467a-f309-515ebc86dd4d"
   },
   "outputs": [],
   "source": [
    "!/opt/bin/nvidia-smi"
   ]
  },
  {
   "cell_type": "code",
   "execution_count": null,
   "metadata": {
    "id": "7PwrHBJ6n_Ez"
   },
   "outputs": [],
   "source": [
    "%load_ext tensorboard\n",
    "%tensorboard --logdir=/content/drive/MyDrive/yosuga_base"
   ]
  },
  {
   "cell_type": "code",
   "execution_count": null,
   "metadata": {
    "colab": {
     "base_uri": "https://localhost:8080/"
    },
    "id": "ltU2JXpxIh-K",
    "outputId": "52a9cf6c-ce77-42c9-881a-ab5490820f42"
   },
   "outputs": [],
   "source": [
    "!python train_ms.py -c configs/yosuga_base.json -m yosuga_base"
   ]
  },
  {
   "cell_type": "code",
   "execution_count": null,
   "metadata": {
    "id": "U5kU1IHsvKYN"
   },
   "outputs": [],
   "source": [
    "%matplotlib inline\n",
    "import matplotlib.pyplot as plt\n",
    "import IPython.display as ipd\n",
    "\n",
    "import os\n",
    "import json\n",
    "import math\n",
    "import torch\n",
    "from torch import nn\n",
    "from torch.nn import functional as F\n",
    "from torch.utils.data import DataLoader\n",
    "\n",
    "import commons\n",
    "import utils\n",
    "from data_utils import TextAudioLoader, TextAudioCollate, TextAudioSpeakerLoader, TextAudioSpeakerCollate\n",
    "from models import SynthesizerTrn\n",
    "from text.symbols import symbols\n",
    "from text import text_to_sequence\n",
    "\n",
    "from scipy.io.wavfile import write\n",
    "\n",
    "def get_text(text, hps):\n",
    "    text_norm = text_to_sequence(text, hps.data.text_cleaners)\n",
    "    if hps.data.add_blank:\n",
    "        text_norm = commons.intersperse(text_norm, 0)\n",
    "    text_norm = torch.LongTensor(text_norm)\n",
    "    return text_norm"
   ]
  },
  {
   "cell_type": "code",
   "execution_count": null,
   "metadata": {
    "id": "9S8AazzGwclL"
   },
   "outputs": [],
   "source": [
    "hps = utils.get_hparams_from_file(\"./configs/yosuga_base.json\")"
   ]
  },
  {
   "cell_type": "code",
   "execution_count": null,
   "metadata": {
    "id": "YrmGLQ16wfAI"
   },
   "outputs": [],
   "source": [
    "net_g = SynthesizerTrn(\n",
    "    len(hps.symbols),\n",
    "    hps.data.filter_length // 2 + 1,\n",
    "    hps.train.segment_size // hps.data.hop_length,\n",
    "    n_speakers=hps.data.n_speakers,\n",
    "    **hps.model).cuda()\n",
    "_ = net_g.eval()\n",
    "\n",
    "_ = utils.load_checkpoint(\"/content/drive/MyDrive/logs/yosuga_base/G_144000.pth\", net_g, None)"
   ]
  },
  {
   "cell_type": "code",
   "execution_count": null,
   "metadata": {
    "colab": {
     "base_uri": "https://localhost:8080/",
     "height": 142,
     "referenced_widgets": [
      "7c4213c34dc5452dbca3942c3d22a42e",
      "89d81dd4efed4770902a66bdcd5d63ee",
      "079d2b084a404100bd6c714a7c254443",
      "193b5fd99d0a42c8b6a347b8d1feefd4",
      "e3049459096348c489d88f4c2d2e4699",
      "2eec5c5fec964bd1beaccf28b011d7e1",
      "d29abe48f18f4b49829ecc24cc7c9430",
      "6cdd16677c5e454784d20d00effe79b4",
      "4dd7e0105d8548c0aa5f0e3a7e6fe48d",
      "dc6db88b04544fceb1017ee7c292c466",
      "e3bb4ccec137479d87c6bf5c018d76e0"
     ]
    },
    "id": "pwJm9BC8wmPU",
    "outputId": "789ff670-e799-4b8a-c198-b72d139d70d9"
   },
   "outputs": [],
   "source": [
    "stn_tst = get_text(\"だめだね、だめよ、だめなのよ\", hps)\n",
    "speaker_id = 0\n",
    "with torch.no_grad():\n",
    "    x_tst = stn_tst.cuda().unsqueeze(0)\n",
    "    x_tst_lengths = torch.LongTensor([stn_tst.size(0)]).cuda()\n",
    "    sid = torch.LongTensor([speaker_id]).cuda()\n",
    "    audio = net_g.infer(x_tst, x_tst_lengths, sid=sid, noise_scale=.667, noise_scale_w=0.8, length_scale=1)[0][0,0].data.cpu().float().numpy()\n",
    "ipd.display(ipd.Audio(audio, rate=hps.data.sampling_rate))"
   ]
  },
  {
   "cell_type": "code",
   "execution_count": null,
   "metadata": {
    "id": "AY3Xt4kJysDQ"
   },
   "outputs": [],
   "source": [
    "def jtts(text):\n",
    "  stn_tst = get_text(text, hps)\n",
    "  speaker_id = 5\n",
    "  with torch.no_grad():\n",
    "      x_tst = stn_tst.cuda().unsqueeze(0)\n",
    "      x_tst_lengths = torch.LongTensor([stn_tst.size(0)]).cuda()\n",
    "      sid = torch.LongTensor([speaker_id]).cuda()\n",
    "      audio = net_g.infer(x_tst, x_tst_lengths, sid=sid, noise_scale=.667, noise_scale_w=0.8, length_scale=1)[0][0,0].data.cpu().float().numpy()\n",
    "  ipd.display(ipd.Audio(audio, rate=hps.data.sampling_rate))"
   ]
  },
  {
   "cell_type": "code",
   "execution_count": null,
   "metadata": {
    "colab": {
     "base_uri": "https://localhost:8080/",
     "height": 359
    },
    "id": "NstcPABh5LFM",
    "outputId": "e4cc16d8-afdd-4a57-ae46-afa65a2c09f8"
   },
   "outputs": [],
   "source": [
    "jtts(\"人類の偉大さは数字にこそあると言っていい。\")\n",
    "jtts(\"足し、引き、掛け、割り。\")\n",
    "jtts(\"そんな基本から、何かの大きさ、距離の長さ、\")\n",
    "jtts(\"全てを測定する。\")\n",
    "jtts(\"ありとあらゆる存在は数字なしではただの虚無なのだ。\")\n",
    "jtts(\"生は夏の花の如き、死は秋の叶の如く\")"
   ]
  },
  {
   "cell_type": "code",
   "execution_count": null,
   "metadata": {
    "colab": {
     "base_uri": "https://localhost:8080/",
     "height": 531
    },
    "id": "4azy4TmTvnXP",
    "outputId": "8dec8194-4486-4ffa-a865-32b7c75ead47"
   },
   "outputs": [],
   "source": [
    "jtts(\"吾輩は猫である。名前はまだない\")\n",
    "jtts(\"試験勉強頑張ってくださいね\")\n",
    "jtts(\"私の処女をもらってください\")\n",
    "jtts(\"なんでこんなに慣れてんのよ。私の方が先に好きだったのに\")\n",
    "jtts(\"大変に気分がいい\")\n",
    "jtts(\"私わあやちねねです\")\n",
    "jtts(\"私のおなにいを見ないでください!\")\n",
    "jtts(\"それわどうかな\")\n",
    "jtts(\"授業中に出したら、学校生活終わるなり\")"
   ]
  },
  {
   "cell_type": "code",
   "execution_count": null,
   "metadata": {
    "id": "xvuVXEM-3bA8"
   },
   "outputs": [],
   "source": [
    "hps_ms = utils.get_hparams_from_file(\"./configs/yosuga_base.json\")\n",
    "net_g_ms = SynthesizerTrn(\n",
    "  len(hps_ms.symbols),\n",
    "  hps_ms.data.filter_length // 2 + 1,\n",
    "  hps_ms.train.segment_size // hps_ms.data.hop_length,\n",
    "  n_speakers=hps_ms.data.n_speakers,\n",
    "  **hps_ms.model).cuda()\n",
    "_ = net_g_ms.eval()\n",
    "_ = utils.load_checkpoint(\"/content/drive/MyDrive/logs/yosuga_base/G_49000.pth\", net_g_ms, None)"
   ]
  },
  {
   "cell_type": "code",
   "execution_count": null,
   "metadata": {
    "id": "wbBK_7ZOzg-k"
   },
   "outputs": [],
   "source": [
    "from mel_processing import spectrogram_torch\n",
    "from utils import load_wav_to_torch\n",
    "\n",
    "speaker_id = 0\n",
    "audio, sampling_rate = load_wav_to_torch(\"./yosuga_wav/Kasugano_Sora/SR000023.wav\")\n",
    "        \n",
    "y = audio / hps_ms.data.max_wav_value\n",
    "y = y.unsqueeze(0)\n",
    "\n",
    "spec = spectrogram_torch(y, hps_ms.data.filter_length,\n",
    "    hps_ms.data.sampling_rate, hps_ms.data.hop_length, hps_ms.data.win_length,\n",
    "    center=False)\n",
    "spec_lengths = torch.LongTensor([spec.size(-1)])\n",
    "sid_src = torch.LongTensor([speaker_id])"
   ]
  },
  {
   "cell_type": "code",
   "execution_count": null,
   "metadata": {
    "colab": {
     "base_uri": "https://localhost:8080/",
     "height": 447
    },
    "id": "5BhG8EtOzg2G",
    "outputId": "2eab4052-9ea2-4ef4-c567-d3eb0dcb56ae"
   },
   "outputs": [],
   "source": [
    "speaker_names = ['春日野穹','天女目瑛','依媛奈緒','渚一葉','乃木坂初佳','倉永梢','伊福部やひろ']\n",
    "with torch.no_grad():\n",
    "    sid_tgt = []\n",
    "    audio = []\n",
    "    for i, speaker_name in enumerate(speaker_names):\n",
    "      sid_tgt.append(torch.LongTensor([i]))\n",
    "      net_g_ms.voice_conversion(spec, spec_lengths, sid_src=sid_src, sid_tgt=sid_tgt[i])[0][0,0].data.cpu().float().numpy() \n",
    "print(\"Original SID: %d\" % sid_src.item())\n",
    "ipd.display(ipd.Audio(y[0].numpy(), rate=hps_ms.data.sampling_rate))\n",
    "for i, speaker_name in enumerate(speaker_names):\n",
    "  if i == speaker_id:\n",
    "    continue\n",
    "  print(\"Converted SID: %d %s\" % (sid_tgt[i].item(), speaker_name))\n",
    "  ipd.display(ipd.Audio(audio[i], rate=hps_ms.data.sampling_rate))"
   ]
  }
 ],
 "metadata": {
  "accelerator": "GPU",
  "colab": {
   "collapsed_sections": [
    "UZ9maSoUmHaS"
   ],
   "name": "colab.ipynb",
   "provenance": []
  },
  "gpuClass": "standard",
  "kernelspec": {
   "display_name": "Python 3 (ipykernel)",
   "language": "python",
   "name": "python3"
  },
  "language_info": {
   "codemirror_mode": {
    "name": "ipython",
    "version": 3
   },
   "file_extension": ".py",
   "mimetype": "text/x-python",
   "name": "python",
   "nbconvert_exporter": "python",
   "pygments_lexer": "ipython3",
   "version": "3.9.12"
  },
  "widgets": {
   "application/vnd.jupyter.widget-state+json": {
    "079d2b084a404100bd6c714a7c254443": {
     "model_module": "@jupyter-widgets/controls",
     "model_module_version": "1.5.0",
     "model_name": "FloatProgressModel",
     "state": {
      "_dom_classes": [],
      "_model_module": "@jupyter-widgets/controls",
      "_model_module_version": "1.5.0",
      "_model_name": "FloatProgressModel",
      "_view_count": null,
      "_view_module": "@jupyter-widgets/controls",
      "_view_module_version": "1.5.0",
      "_view_name": "ProgressView",
      "bar_style": "success",
      "description": "",
      "description_tooltip": null,
      "layout": "IPY_MODEL_6cdd16677c5e454784d20d00effe79b4",
      "max": 1,
      "min": 0,
      "orientation": "horizontal",
      "style": "IPY_MODEL_4dd7e0105d8548c0aa5f0e3a7e6fe48d",
      "value": 1
     }
    },
    "193b5fd99d0a42c8b6a347b8d1feefd4": {
     "model_module": "@jupyter-widgets/controls",
     "model_module_version": "1.5.0",
     "model_name": "HTMLModel",
     "state": {
      "_dom_classes": [],
      "_model_module": "@jupyter-widgets/controls",
      "_model_module_version": "1.5.0",
      "_model_name": "HTMLModel",
      "_view_count": null,
      "_view_module": "@jupyter-widgets/controls",
      "_view_module_version": "1.5.0",
      "_view_name": "HTMLView",
      "description": "",
      "description_tooltip": null,
      "layout": "IPY_MODEL_dc6db88b04544fceb1017ee7c292c466",
      "placeholder": "​",
      "style": "IPY_MODEL_e3bb4ccec137479d87c6bf5c018d76e0",
      "value": " 22.6M/22.6M [00:01&lt;00:00, 20.5MB/s]"
     }
    },
    "2eec5c5fec964bd1beaccf28b011d7e1": {
     "model_module": "@jupyter-widgets/base",
     "model_module_version": "1.2.0",
     "model_name": "LayoutModel",
     "state": {
      "_model_module": "@jupyter-widgets/base",
      "_model_module_version": "1.2.0",
      "_model_name": "LayoutModel",
      "_view_count": null,
      "_view_module": "@jupyter-widgets/base",
      "_view_module_version": "1.2.0",
      "_view_name": "LayoutView",
      "align_content": null,
      "align_items": null,
      "align_self": null,
      "border": null,
      "bottom": null,
      "display": null,
      "flex": null,
      "flex_flow": null,
      "grid_area": null,
      "grid_auto_columns": null,
      "grid_auto_flow": null,
      "grid_auto_rows": null,
      "grid_column": null,
      "grid_gap": null,
      "grid_row": null,
      "grid_template_areas": null,
      "grid_template_columns": null,
      "grid_template_rows": null,
      "height": null,
      "justify_content": null,
      "justify_items": null,
      "left": null,
      "margin": null,
      "max_height": null,
      "max_width": null,
      "min_height": null,
      "min_width": null,
      "object_fit": null,
      "object_position": null,
      "order": null,
      "overflow": null,
      "overflow_x": null,
      "overflow_y": null,
      "padding": null,
      "right": null,
      "top": null,
      "visibility": null,
      "width": null
     }
    },
    "4dd7e0105d8548c0aa5f0e3a7e6fe48d": {
     "model_module": "@jupyter-widgets/controls",
     "model_module_version": "1.5.0",
     "model_name": "ProgressStyleModel",
     "state": {
      "_model_module": "@jupyter-widgets/controls",
      "_model_module_version": "1.5.0",
      "_model_name": "ProgressStyleModel",
      "_view_count": null,
      "_view_module": "@jupyter-widgets/base",
      "_view_module_version": "1.2.0",
      "_view_name": "StyleView",
      "bar_color": null,
      "description_width": ""
     }
    },
    "6cdd16677c5e454784d20d00effe79b4": {
     "model_module": "@jupyter-widgets/base",
     "model_module_version": "1.2.0",
     "model_name": "LayoutModel",
     "state": {
      "_model_module": "@jupyter-widgets/base",
      "_model_module_version": "1.2.0",
      "_model_name": "LayoutModel",
      "_view_count": null,
      "_view_module": "@jupyter-widgets/base",
      "_view_module_version": "1.2.0",
      "_view_name": "LayoutView",
      "align_content": null,
      "align_items": null,
      "align_self": null,
      "border": null,
      "bottom": null,
      "display": null,
      "flex": null,
      "flex_flow": null,
      "grid_area": null,
      "grid_auto_columns": null,
      "grid_auto_flow": null,
      "grid_auto_rows": null,
      "grid_column": null,
      "grid_gap": null,
      "grid_row": null,
      "grid_template_areas": null,
      "grid_template_columns": null,
      "grid_template_rows": null,
      "height": null,
      "justify_content": null,
      "justify_items": null,
      "left": null,
      "margin": null,
      "max_height": null,
      "max_width": null,
      "min_height": null,
      "min_width": null,
      "object_fit": null,
      "object_position": null,
      "order": null,
      "overflow": null,
      "overflow_x": null,
      "overflow_y": null,
      "padding": null,
      "right": null,
      "top": null,
      "visibility": null,
      "width": "20px"
     }
    },
    "7c4213c34dc5452dbca3942c3d22a42e": {
     "model_module": "@jupyter-widgets/controls",
     "model_module_version": "1.5.0",
     "model_name": "HBoxModel",
     "state": {
      "_dom_classes": [],
      "_model_module": "@jupyter-widgets/controls",
      "_model_module_version": "1.5.0",
      "_model_name": "HBoxModel",
      "_view_count": null,
      "_view_module": "@jupyter-widgets/controls",
      "_view_module_version": "1.5.0",
      "_view_name": "HBoxView",
      "box_style": "",
      "children": [
       "IPY_MODEL_89d81dd4efed4770902a66bdcd5d63ee",
       "IPY_MODEL_079d2b084a404100bd6c714a7c254443",
       "IPY_MODEL_193b5fd99d0a42c8b6a347b8d1feefd4"
      ],
      "layout": "IPY_MODEL_e3049459096348c489d88f4c2d2e4699"
     }
    },
    "89d81dd4efed4770902a66bdcd5d63ee": {
     "model_module": "@jupyter-widgets/controls",
     "model_module_version": "1.5.0",
     "model_name": "HTMLModel",
     "state": {
      "_dom_classes": [],
      "_model_module": "@jupyter-widgets/controls",
      "_model_module_version": "1.5.0",
      "_model_name": "HTMLModel",
      "_view_count": null,
      "_view_module": "@jupyter-widgets/controls",
      "_view_module_version": "1.5.0",
      "_view_name": "HTMLView",
      "description": "",
      "description_tooltip": null,
      "layout": "IPY_MODEL_2eec5c5fec964bd1beaccf28b011d7e1",
      "placeholder": "​",
      "style": "IPY_MODEL_d29abe48f18f4b49829ecc24cc7c9430",
      "value": "dic.tar.gz: 100%"
     }
    },
    "d29abe48f18f4b49829ecc24cc7c9430": {
     "model_module": "@jupyter-widgets/controls",
     "model_module_version": "1.5.0",
     "model_name": "DescriptionStyleModel",
     "state": {
      "_model_module": "@jupyter-widgets/controls",
      "_model_module_version": "1.5.0",
      "_model_name": "DescriptionStyleModel",
      "_view_count": null,
      "_view_module": "@jupyter-widgets/base",
      "_view_module_version": "1.2.0",
      "_view_name": "StyleView",
      "description_width": ""
     }
    },
    "dc6db88b04544fceb1017ee7c292c466": {
     "model_module": "@jupyter-widgets/base",
     "model_module_version": "1.2.0",
     "model_name": "LayoutModel",
     "state": {
      "_model_module": "@jupyter-widgets/base",
      "_model_module_version": "1.2.0",
      "_model_name": "LayoutModel",
      "_view_count": null,
      "_view_module": "@jupyter-widgets/base",
      "_view_module_version": "1.2.0",
      "_view_name": "LayoutView",
      "align_content": null,
      "align_items": null,
      "align_self": null,
      "border": null,
      "bottom": null,
      "display": null,
      "flex": null,
      "flex_flow": null,
      "grid_area": null,
      "grid_auto_columns": null,
      "grid_auto_flow": null,
      "grid_auto_rows": null,
      "grid_column": null,
      "grid_gap": null,
      "grid_row": null,
      "grid_template_areas": null,
      "grid_template_columns": null,
      "grid_template_rows": null,
      "height": null,
      "justify_content": null,
      "justify_items": null,
      "left": null,
      "margin": null,
      "max_height": null,
      "max_width": null,
      "min_height": null,
      "min_width": null,
      "object_fit": null,
      "object_position": null,
      "order": null,
      "overflow": null,
      "overflow_x": null,
      "overflow_y": null,
      "padding": null,
      "right": null,
      "top": null,
      "visibility": null,
      "width": null
     }
    },
    "e3049459096348c489d88f4c2d2e4699": {
     "model_module": "@jupyter-widgets/base",
     "model_module_version": "1.2.0",
     "model_name": "LayoutModel",
     "state": {
      "_model_module": "@jupyter-widgets/base",
      "_model_module_version": "1.2.0",
      "_model_name": "LayoutModel",
      "_view_count": null,
      "_view_module": "@jupyter-widgets/base",
      "_view_module_version": "1.2.0",
      "_view_name": "LayoutView",
      "align_content": null,
      "align_items": null,
      "align_self": null,
      "border": null,
      "bottom": null,
      "display": null,
      "flex": null,
      "flex_flow": null,
      "grid_area": null,
      "grid_auto_columns": null,
      "grid_auto_flow": null,
      "grid_auto_rows": null,
      "grid_column": null,
      "grid_gap": null,
      "grid_row": null,
      "grid_template_areas": null,
      "grid_template_columns": null,
      "grid_template_rows": null,
      "height": null,
      "justify_content": null,
      "justify_items": null,
      "left": null,
      "margin": null,
      "max_height": null,
      "max_width": null,
      "min_height": null,
      "min_width": null,
      "object_fit": null,
      "object_position": null,
      "order": null,
      "overflow": null,
      "overflow_x": null,
      "overflow_y": null,
      "padding": null,
      "right": null,
      "top": null,
      "visibility": null,
      "width": null
     }
    },
    "e3bb4ccec137479d87c6bf5c018d76e0": {
     "model_module": "@jupyter-widgets/controls",
     "model_module_version": "1.5.0",
     "model_name": "DescriptionStyleModel",
     "state": {
      "_model_module": "@jupyter-widgets/controls",
      "_model_module_version": "1.5.0",
      "_model_name": "DescriptionStyleModel",
      "_view_count": null,
      "_view_module": "@jupyter-widgets/base",
      "_view_module_version": "1.2.0",
      "_view_name": "StyleView",
      "description_width": ""
     }
    }
   }
  }
 },
 "nbformat": 4,
 "nbformat_minor": 0
}