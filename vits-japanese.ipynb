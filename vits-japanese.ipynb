{
 "cells": [
  {
   "cell_type": "markdown",
   "id": "b0223f29",
   "metadata": {
    "id": "65CU-n-JHhbY",
    "papermill": {
     "duration": 0.003679,
     "end_time": "2022-08-10T12:04:43.324151",
     "exception": false,
     "start_time": "2022-08-10T12:04:43.320472",
     "status": "completed"
    },
    "pycharm": {
     "name": "#%% md\n"
    },
    "tags": []
   },
   "source": [
    "# Clone repository"
   ]
  },
  {
   "cell_type": "code",
   "execution_count": 1,
   "id": "f26e5876",
   "metadata": {
    "execution": {
     "iopub.execute_input": "2022-08-10T12:04:43.331856Z",
     "iopub.status.busy": "2022-08-10T12:04:43.331036Z",
     "iopub.status.idle": "2022-08-10T12:07:01.055378Z",
     "shell.execute_reply": "2022-08-10T12:07:01.053918Z"
    },
    "executionInfo": {
     "elapsed": 198272,
     "status": "ok",
     "timestamp": 1659461977037,
     "user": {
      "displayName": "章政",
      "userId": "17693849672782836082"
     },
     "user_tz": -480
    },
    "id": "i_0vZ-OjHVNu",
    "outputId": "52655c4e-699c-465a-ce12-9cef24aa8a1e",
    "papermill": {
     "duration": 137.731519,
     "end_time": "2022-08-10T12:07:01.058450",
     "exception": false,
     "start_time": "2022-08-10T12:04:43.326931",
     "status": "completed"
    },
    "pycharm": {
     "name": "#%%\n"
    },
    "tags": []
   },
   "outputs": [
    {
     "name": "stdout",
     "output_type": "stream",
     "text": [
      "Cloning into 'VITS_Japanese'...\r\n",
      "remote: Enumerating objects: 270, done.\u001b[K\r\n",
      "remote: Counting objects: 100% (173/173), done.\u001b[K\r\n",
      "remote: Compressing objects: 100% (100/100), done.\u001b[K\r\n",
      "remote: Total 270 (delta 94), reused 112 (delta 70), pack-reused 97\u001b[K\r\n",
      "Receiving objects: 100% (270/270), 6.49 MiB | 10.28 MiB/s, done.\r\n",
      "Resolving deltas: 100% (119/119), done.\r\n",
      "/kaggle/working/VITS_Japanese\n",
      "Collecting Cython==0.29.21\r\n",
      "  Downloading Cython-0.29.21-cp37-cp37m-manylinux1_x86_64.whl (2.0 MB)\r\n",
      "\u001b[2K     \u001b[90m━━━━━━━━━━━━━━━━━━━━━━━━━━━━━━━━━━━━━━━━\u001b[0m \u001b[32m2.0/2.0 MB\u001b[0m \u001b[31m5.2 MB/s\u001b[0m eta \u001b[36m0:00:00\u001b[0m\r\n",
      "\u001b[?25hCollecting librosa==0.8.0\r\n",
      "  Downloading librosa-0.8.0.tar.gz (183 kB)\r\n",
      "\u001b[2K     \u001b[90m━━━━━━━━━━━━━━━━━━━━━━━━━━━━━━━━━━━━━━\u001b[0m \u001b[32m183.9/183.9 kB\u001b[0m \u001b[31m15.2 MB/s\u001b[0m eta \u001b[36m0:00:00\u001b[0m\r\n",
      "\u001b[?25h  Preparing metadata (setup.py) ... \u001b[?25l-\b \bdone\r\n",
      "\u001b[?25hCollecting matplotlib==3.3.1\r\n",
      "  Downloading matplotlib-3.3.1-cp37-cp37m-manylinux1_x86_64.whl (11.6 MB)\r\n",
      "\u001b[2K     \u001b[90m━━━━━━━━━━━━━━━━━━━━━━━━━━━━━━━━━━━━━━━━\u001b[0m \u001b[32m11.6/11.6 MB\u001b[0m \u001b[31m32.1 MB/s\u001b[0m eta \u001b[36m0:00:00\u001b[0m\r\n",
      "\u001b[?25hRequirement already satisfied: numpy==1.21.6 in /opt/conda/lib/python3.7/site-packages (1.21.6)\r\n",
      "Collecting phonemizer==2.2.1\r\n",
      "  Downloading phonemizer-2.2.1-py3-none-any.whl (49 kB)\r\n",
      "\u001b[2K     \u001b[90m━━━━━━━━━━━━━━━━━━━━━━━━━━━━━━━━━━━━━━━━\u001b[0m \u001b[32m49.0/49.0 kB\u001b[0m \u001b[31m3.5 MB/s\u001b[0m eta \u001b[36m0:00:00\u001b[0m\r\n",
      "\u001b[?25hCollecting scipy==1.5.2\r\n",
      "  Downloading scipy-1.5.2-cp37-cp37m-manylinux1_x86_64.whl (25.9 MB)\r\n",
      "\u001b[2K     \u001b[90m━━━━━━━━━━━━━━━━━━━━━━━━━━━━━━━━━━━━━━━━\u001b[0m \u001b[32m25.9/25.9 MB\u001b[0m \u001b[31m26.0 MB/s\u001b[0m eta \u001b[36m0:00:00\u001b[0m\r\n",
      "\u001b[?25hCollecting tensorboard==2.3.0\r\n",
      "  Downloading tensorboard-2.3.0-py3-none-any.whl (6.8 MB)\r\n",
      "\u001b[2K     \u001b[90m━━━━━━━━━━━━━━━━━━━━━━━━━━━━━━━━━━━━━━━━\u001b[0m \u001b[32m6.8/6.8 MB\u001b[0m \u001b[31m37.5 MB/s\u001b[0m eta \u001b[36m0:00:00\u001b[0m\r\n",
      "\u001b[?25hRequirement already satisfied: torch in /opt/conda/lib/python3.7/site-packages (1.11.0)\r\n",
      "Requirement already satisfied: torchvision in /opt/conda/lib/python3.7/site-packages (0.12.0)\r\n",
      "Collecting Unidecode==1.1.1\r\n",
      "  Downloading Unidecode-1.1.1-py2.py3-none-any.whl (238 kB)\r\n",
      "\u001b[2K     \u001b[90m━━━━━━━━━━━━━━━━━━━━━━━━━━━━━━━━━━━━━━\u001b[0m \u001b[32m238.3/238.3 kB\u001b[0m \u001b[31m19.0 MB/s\u001b[0m eta \u001b[36m0:00:00\u001b[0m\r\n",
      "\u001b[?25hCollecting pyopenjtalk==0.1.3\r\n",
      "  Downloading pyopenjtalk-0.1.3.tar.gz (1.5 MB)\r\n",
      "\u001b[2K     \u001b[90m━━━━━━━━━━━━━━━━━━━━━━━━━━━━━━━━━━━━━━━━\u001b[0m \u001b[32m1.5/1.5 MB\u001b[0m \u001b[31m57.5 MB/s\u001b[0m eta \u001b[36m0:00:00\u001b[0m\r\n",
      "\u001b[?25h  Installing build dependencies ... \u001b[?25l-\b \b\\\b \b|\b \b/\b \b-\b \b\\\b \b|\b \b/\b \b-\b \b\\\b \bdone\r\n",
      "\u001b[?25h  Getting requirements to build wheel ... \u001b[?25l-\b \bdone\r\n",
      "\u001b[?25h  Preparing metadata (pyproject.toml) ... \u001b[?25l-\b \bdone\r\n",
      "\u001b[?25hCollecting jamo==0.4.1\r\n",
      "  Downloading jamo-0.4.1-py3-none-any.whl (9.5 kB)\r\n",
      "Requirement already satisfied: audioread>=2.0.0 in /opt/conda/lib/python3.7/site-packages (from librosa==0.8.0) (2.1.9)\r\n",
      "Requirement already satisfied: scikit-learn!=0.19.0,>=0.14.0 in /opt/conda/lib/python3.7/site-packages (from librosa==0.8.0) (1.0.2)\r\n",
      "Requirement already satisfied: joblib>=0.14 in /opt/conda/lib/python3.7/site-packages (from librosa==0.8.0) (1.0.1)\r\n",
      "Requirement already satisfied: decorator>=3.0.0 in /opt/conda/lib/python3.7/site-packages (from librosa==0.8.0) (5.1.1)\r\n",
      "Requirement already satisfied: resampy>=0.2.2 in /opt/conda/lib/python3.7/site-packages (from librosa==0.8.0) (0.3.1)\r\n",
      "Requirement already satisfied: numba>=0.43.0 in /opt/conda/lib/python3.7/site-packages (from librosa==0.8.0) (0.55.2)\r\n",
      "Requirement already satisfied: soundfile>=0.9.0 in /opt/conda/lib/python3.7/site-packages (from librosa==0.8.0) (0.10.3.post1)\r\n",
      "Requirement already satisfied: pooch>=1.0 in /opt/conda/lib/python3.7/site-packages (from librosa==0.8.0) (1.6.0)\r\n",
      "Requirement already satisfied: certifi>=2020.06.20 in /opt/conda/lib/python3.7/site-packages (from matplotlib==3.3.1) (2022.6.15)\r\n",
      "Requirement already satisfied: kiwisolver>=1.0.1 in /opt/conda/lib/python3.7/site-packages (from matplotlib==3.3.1) (1.4.3)\r\n",
      "Requirement already satisfied: pyparsing!=2.0.4,!=2.1.2,!=2.1.6,>=2.0.3 in /opt/conda/lib/python3.7/site-packages (from matplotlib==3.3.1) (3.0.9)\r\n",
      "Requirement already satisfied: cycler>=0.10 in /opt/conda/lib/python3.7/site-packages (from matplotlib==3.3.1) (0.11.0)\r\n",
      "Requirement already satisfied: pillow>=6.2.0 in /opt/conda/lib/python3.7/site-packages (from matplotlib==3.3.1) (9.1.1)\r\n",
      "Requirement already satisfied: python-dateutil>=2.1 in /opt/conda/lib/python3.7/site-packages (from matplotlib==3.3.1) (2.8.2)\r\n",
      "Collecting segments\r\n",
      "  Downloading segments-2.2.1-py2.py3-none-any.whl (15 kB)\r\n",
      "Requirement already satisfied: attrs>=18.1 in /opt/conda/lib/python3.7/site-packages (from phonemizer==2.2.1) (21.4.0)\r\n",
      "Requirement already satisfied: google-auth<2,>=1.6.3 in /opt/conda/lib/python3.7/site-packages (from tensorboard==2.3.0) (1.35.0)\r\n",
      "Requirement already satisfied: requests<3,>=2.21.0 in /opt/conda/lib/python3.7/site-packages (from tensorboard==2.3.0) (2.28.1)\r\n",
      "Requirement already satisfied: six>=1.10.0 in /opt/conda/lib/python3.7/site-packages (from tensorboard==2.3.0) (1.16.0)\r\n",
      "Requirement already satisfied: grpcio>=1.24.3 in /opt/conda/lib/python3.7/site-packages (from tensorboard==2.3.0) (1.43.0)\r\n",
      "Requirement already satisfied: werkzeug>=0.11.15 in /opt/conda/lib/python3.7/site-packages (from tensorboard==2.3.0) (2.1.2)\r\n",
      "Requirement already satisfied: absl-py>=0.4 in /opt/conda/lib/python3.7/site-packages (from tensorboard==2.3.0) (1.1.0)\r\n",
      "Requirement already satisfied: setuptools>=41.0.0 in /opt/conda/lib/python3.7/site-packages (from tensorboard==2.3.0) (59.8.0)\r\n",
      "Requirement already satisfied: tensorboard-plugin-wit>=1.6.0 in /opt/conda/lib/python3.7/site-packages (from tensorboard==2.3.0) (1.8.1)\r\n",
      "Requirement already satisfied: protobuf>=3.6.0 in /opt/conda/lib/python3.7/site-packages (from tensorboard==2.3.0) (3.19.4)\r\n",
      "Requirement already satisfied: markdown>=2.6.8 in /opt/conda/lib/python3.7/site-packages (from tensorboard==2.3.0) (3.3.7)\r\n",
      "Requirement already satisfied: google-auth-oauthlib<0.5,>=0.4.1 in /opt/conda/lib/python3.7/site-packages (from tensorboard==2.3.0) (0.4.6)\r\n",
      "Requirement already satisfied: wheel>=0.26 in /opt/conda/lib/python3.7/site-packages (from tensorboard==2.3.0) (0.37.1)\r\n",
      "Requirement already satisfied: typing-extensions in /opt/conda/lib/python3.7/site-packages (from torch) (4.1.1)\r\n",
      "Requirement already satisfied: rsa<5,>=3.1.4 in /opt/conda/lib/python3.7/site-packages (from google-auth<2,>=1.6.3->tensorboard==2.3.0) (4.8)\r\n",
      "Requirement already satisfied: cachetools<5.0,>=2.0.0 in /opt/conda/lib/python3.7/site-packages (from google-auth<2,>=1.6.3->tensorboard==2.3.0) (4.2.4)\r\n",
      "Requirement already satisfied: pyasn1-modules>=0.2.1 in /opt/conda/lib/python3.7/site-packages (from google-auth<2,>=1.6.3->tensorboard==2.3.0) (0.2.7)\r\n",
      "Requirement already satisfied: requests-oauthlib>=0.7.0 in /opt/conda/lib/python3.7/site-packages (from google-auth-oauthlib<0.5,>=0.4.1->tensorboard==2.3.0) (1.3.1)\r\n",
      "Requirement already satisfied: importlib-metadata>=4.4 in /opt/conda/lib/python3.7/site-packages (from markdown>=2.6.8->tensorboard==2.3.0) (4.12.0)\r\n",
      "Requirement already satisfied: llvmlite<0.39,>=0.38.0rc1 in /opt/conda/lib/python3.7/site-packages (from numba>=0.43.0->librosa==0.8.0) (0.38.1)\r\n",
      "Requirement already satisfied: appdirs>=1.3.0 in /opt/conda/lib/python3.7/site-packages (from pooch>=1.0->librosa==0.8.0) (1.4.4)\r\n",
      "Requirement already satisfied: packaging>=20.0 in /opt/conda/lib/python3.7/site-packages (from pooch>=1.0->librosa==0.8.0) (21.3)\r\n",
      "Requirement already satisfied: idna<4,>=2.5 in /opt/conda/lib/python3.7/site-packages (from requests<3,>=2.21.0->tensorboard==2.3.0) (3.3)\r\n",
      "Requirement already satisfied: urllib3<1.27,>=1.21.1 in /opt/conda/lib/python3.7/site-packages (from requests<3,>=2.21.0->tensorboard==2.3.0) (1.26.9)\r\n",
      "Requirement already satisfied: charset-normalizer<3,>=2 in /opt/conda/lib/python3.7/site-packages (from requests<3,>=2.21.0->tensorboard==2.3.0) (2.1.0)\r\n",
      "Requirement already satisfied: threadpoolctl>=2.0.0 in /opt/conda/lib/python3.7/site-packages (from scikit-learn!=0.19.0,>=0.14.0->librosa==0.8.0) (3.1.0)\r\n",
      "Requirement already satisfied: cffi>=1.0 in /opt/conda/lib/python3.7/site-packages (from soundfile>=0.9.0->librosa==0.8.0) (1.15.0)\r\n",
      "Requirement already satisfied: regex in /opt/conda/lib/python3.7/site-packages (from segments->phonemizer==2.2.1) (2021.11.10)\r\n",
      "Collecting clldutils>=1.7.3\r\n",
      "  Downloading clldutils-3.12.0-py2.py3-none-any.whl (197 kB)\r\n",
      "\u001b[2K     \u001b[90m━━━━━━━━━━━━━━━━━━━━━━━━━━━━━━━━━━━━━━\u001b[0m \u001b[32m197.6/197.6 kB\u001b[0m \u001b[31m15.7 MB/s\u001b[0m eta \u001b[36m0:00:00\u001b[0m\r\n",
      "\u001b[?25hCollecting csvw>=1.5.6\r\n",
      "  Downloading csvw-3.1.1-py2.py3-none-any.whl (56 kB)\r\n",
      "\u001b[2K     \u001b[90m━━━━━━━━━━━━━━━━━━━━━━━━━━━━━━━━━━━━━━━━\u001b[0m \u001b[32m56.3/56.3 kB\u001b[0m \u001b[31m5.3 MB/s\u001b[0m eta \u001b[36m0:00:00\u001b[0m\r\n",
      "\u001b[?25hRequirement already satisfied: pycparser in /opt/conda/lib/python3.7/site-packages (from cffi>=1.0->soundfile>=0.9.0->librosa==0.8.0) (2.21)\r\n",
      "Requirement already satisfied: tabulate>=0.7.7 in /opt/conda/lib/python3.7/site-packages (from clldutils>=1.7.3->segments->phonemizer==2.2.1) (0.8.10)\r\n",
      "Requirement already satisfied: colorlog in /opt/conda/lib/python3.7/site-packages (from clldutils>=1.7.3->segments->phonemizer==2.2.1) (6.6.0)\r\n",
      "Requirement already satisfied: jsonschema in /opt/conda/lib/python3.7/site-packages (from csvw>=1.5.6->segments->phonemizer==2.2.1) (4.6.1)\r\n",
      "Requirement already satisfied: babel in /opt/conda/lib/python3.7/site-packages (from csvw>=1.5.6->segments->phonemizer==2.2.1) (2.10.3)\r\n",
      "Requirement already satisfied: colorama in /opt/conda/lib/python3.7/site-packages (from csvw>=1.5.6->segments->phonemizer==2.2.1) (0.4.5)\r\n",
      "Collecting rdflib\r\n",
      "  Downloading rdflib-6.2.0-py3-none-any.whl (500 kB)\r\n",
      "\u001b[2K     \u001b[90m━━━━━━━━━━━━━━━━━━━━━━━━━━━━━━━━━━━━━━\u001b[0m \u001b[32m500.3/500.3 kB\u001b[0m \u001b[31m29.8 MB/s\u001b[0m eta \u001b[36m0:00:00\u001b[0m\r\n",
      "\u001b[?25hCollecting rfc3986<2\r\n",
      "  Downloading rfc3986-1.5.0-py2.py3-none-any.whl (31 kB)\r\n",
      "Collecting isodate\r\n",
      "  Downloading isodate-0.6.1-py2.py3-none-any.whl (41 kB)\r\n",
      "\u001b[2K     \u001b[90m━━━━━━━━━━━━━━━━━━━━━━━━━━━━━━━━━━━━━━━━\u001b[0m \u001b[32m41.7/41.7 kB\u001b[0m \u001b[31m3.8 MB/s\u001b[0m eta \u001b[36m0:00:00\u001b[0m\r\n",
      "\u001b[?25hCollecting language-tags\r\n",
      "  Downloading language_tags-1.1.0-py2.py3-none-any.whl (210 kB)\r\n",
      "\u001b[2K     \u001b[90m━━━━━━━━━━━━━━━━━━━━━━━━━━━━━━━━━━━━━━\u001b[0m \u001b[32m210.5/210.5 kB\u001b[0m \u001b[31m18.9 MB/s\u001b[0m eta \u001b[36m0:00:00\u001b[0m\r\n",
      "\u001b[?25hRequirement already satisfied: uritemplate>=3.0.0 in /opt/conda/lib/python3.7/site-packages (from csvw>=1.5.6->segments->phonemizer==2.2.1) (3.0.1)\r\n",
      "Requirement already satisfied: zipp>=0.5 in /opt/conda/lib/python3.7/site-packages (from importlib-metadata>=4.4->markdown>=2.6.8->tensorboard==2.3.0) (3.8.0)\r\n",
      "Requirement already satisfied: pyasn1<0.5.0,>=0.4.6 in /opt/conda/lib/python3.7/site-packages (from pyasn1-modules>=0.2.1->google-auth<2,>=1.6.3->tensorboard==2.3.0) (0.4.8)\r\n",
      "Requirement already satisfied: oauthlib>=3.0.0 in /opt/conda/lib/python3.7/site-packages (from requests-oauthlib>=0.7.0->google-auth-oauthlib<0.5,>=0.4.1->tensorboard==2.3.0) (3.2.0)\r\n",
      "Requirement already satisfied: pytz>=2015.7 in /opt/conda/lib/python3.7/site-packages (from babel->csvw>=1.5.6->segments->phonemizer==2.2.1) (2022.1)\r\n",
      "Requirement already satisfied: importlib-resources>=1.4.0 in /opt/conda/lib/python3.7/site-packages (from jsonschema->csvw>=1.5.6->segments->phonemizer==2.2.1) (5.8.0)\r\n",
      "Requirement already satisfied: pyrsistent!=0.17.0,!=0.17.1,!=0.17.2,>=0.14.0 in /opt/conda/lib/python3.7/site-packages (from jsonschema->csvw>=1.5.6->segments->phonemizer==2.2.1) (0.18.1)\r\n",
      "Building wheels for collected packages: librosa, pyopenjtalk\r\n",
      "  Building wheel for librosa (setup.py) ... \u001b[?25l-\b \b\\\b \bdone\r\n",
      "\u001b[?25h  Created wheel for librosa: filename=librosa-0.8.0-py3-none-any.whl size=201396 sha256=565ce56ae68435a682c7ea2a9f045c6e69cd02e9d688ac784c3a58bcc867bd45\r\n",
      "  Stored in directory: /root/.cache/pip/wheels/de/1e/aa/d91797ae7e1ce11853ee100bee9d1781ae9d750e7458c95afb\r\n",
      "  Building wheel for pyopenjtalk (pyproject.toml) ... \u001b[?25l-\b \b\\\b \b|\b \b/\b \b-\b \b\\\b \b|\b \b/\b \b-\b \b\\\b \b|\b \b/\b \b-\b \b\\\b \b|\b \b/\b \b-\b \b\\\b \b|\b \b/\b \b-\b \b\\\b \b|\b \b/\b \b-\b \b\\\b \b|\b \b/\b \b-\b \b\\\b \b|\b \b/\b \b-\b \b\\\b \b|\b \b/\b \b-\b \b\\\b \b|\b \b/\b \b-\b \b\\\b \b|\b \b/\b \b-\b \b\\\b \b|\b \b/\b \b-\b \b\\\b \b|\b \b/\b \bdone\r\n",
      "\u001b[?25h  Created wheel for pyopenjtalk: filename=pyopenjtalk-0.1.3-cp37-cp37m-linux_x86_64.whl size=5991893 sha256=a92c93b3fae48f78ef219baad59b5ee6f079942a7ce9aa6dd08a8989256cb66d\r\n",
      "  Stored in directory: /root/.cache/pip/wheels/39/7c/51/6240eb7f4ad6816e3c7c4d86e74359c5da1e1baab3318688f1\r\n",
      "Successfully built librosa pyopenjtalk\r\n",
      "Installing collected packages: rfc3986, language-tags, jamo, Unidecode, scipy, isodate, Cython, rdflib, pyopenjtalk, matplotlib, librosa, csvw, tensorboard, clldutils, segments, phonemizer\r\n",
      "  Attempting uninstall: Unidecode\r\n",
      "    Found existing installation: Unidecode 1.3.4\r\n",
      "    Uninstalling Unidecode-1.3.4:\r\n",
      "      Successfully uninstalled Unidecode-1.3.4\r\n",
      "  Attempting uninstall: scipy\r\n",
      "    Found existing installation: scipy 1.7.3\r\n",
      "    Uninstalling scipy-1.7.3:\r\n",
      "      Successfully uninstalled scipy-1.7.3\r\n",
      "  Attempting uninstall: Cython\r\n",
      "    Found existing installation: Cython 0.29.30\r\n",
      "    Uninstalling Cython-0.29.30:\r\n",
      "      Successfully uninstalled Cython-0.29.30\r\n",
      "  Attempting uninstall: matplotlib\r\n",
      "    Found existing installation: matplotlib 3.5.2\r\n",
      "    Uninstalling matplotlib-3.5.2:\r\n",
      "      Successfully uninstalled matplotlib-3.5.2\r\n",
      "  Attempting uninstall: librosa\r\n",
      "    Found existing installation: librosa 0.9.2\r\n",
      "    Uninstalling librosa-0.9.2:\r\n",
      "      Successfully uninstalled librosa-0.9.2\r\n",
      "  Attempting uninstall: tensorboard\r\n",
      "    Found existing installation: tensorboard 2.6.0\r\n",
      "    Uninstalling tensorboard-2.6.0:\r\n",
      "      Successfully uninstalled tensorboard-2.6.0\r\n",
      "\u001b[31mERROR: pip's dependency resolver does not currently take into account all the packages that are installed. This behaviour is the source of the following dependency conflicts.\r\n",
      "tensorflow-io 0.21.0 requires tensorflow-io-gcs-filesystem==0.21.0, which is not installed.\r\n",
      "beatrix-jupyterlab 3.1.7 requires google-cloud-bigquery-storage, which is not installed.\r\n",
      "tensorflow 2.6.4 requires absl-py~=0.10, but you have absl-py 1.1.0 which is incompatible.\r\n",
      "tensorflow 2.6.4 requires h5py~=3.1.0, but you have h5py 3.7.0 which is incompatible.\r\n",
      "tensorflow 2.6.4 requires numpy~=1.19.2, but you have numpy 1.21.6 which is incompatible.\r\n",
      "tensorflow 2.6.4 requires six~=1.15.0, but you have six 1.16.0 which is incompatible.\r\n",
      "tensorflow 2.6.4 requires tensorboard<2.7,>=2.6.0, but you have tensorboard 2.3.0 which is incompatible.\r\n",
      "tensorflow 2.6.4 requires typing-extensions<3.11,>=3.7, but you have typing-extensions 4.1.1 which is incompatible.\r\n",
      "tensorflow 2.6.4 requires wrapt~=1.12.1, but you have wrapt 1.14.1 which is incompatible.\r\n",
      "tensorflow-transform 1.9.0 requires tensorflow!=2.0.*,!=2.1.*,!=2.2.*,!=2.3.*,!=2.4.*,!=2.5.*,!=2.6.*,!=2.7.*,!=2.8.*,<2.10,>=1.15.5, but you have tensorflow 2.6.4 which is incompatible.\r\n",
      "tensorflow-serving-api 2.9.0 requires tensorflow<3,>=2.9.0, but you have tensorflow 2.6.4 which is incompatible.\r\n",
      "pymc3 3.11.5 requires scipy<1.8.0,>=1.7.3, but you have scipy 1.5.2 which is incompatible.\r\n",
      "pdpbox 0.2.1 requires matplotlib==3.1.1, but you have matplotlib 3.3.1 which is incompatible.\r\n",
      "flax 0.5.2 requires rich~=11.1, but you have rich 12.1.0 which is incompatible.\r\n",
      "allennlp 2.10.0 requires protobuf==3.20.0, but you have protobuf 3.19.4 which is incompatible.\r\n",
      "allennlp 2.10.0 requires scipy>=1.7.3, but you have scipy 1.5.2 which is incompatible.\u001b[0m\u001b[31m\r\n",
      "\u001b[0mSuccessfully installed Cython-0.29.21 Unidecode-1.1.1 clldutils-3.12.0 csvw-3.1.1 isodate-0.6.1 jamo-0.4.1 language-tags-1.1.0 librosa-0.8.0 matplotlib-3.3.1 phonemizer-2.2.1 pyopenjtalk-0.1.3 rdflib-6.2.0 rfc3986-1.5.0 scipy-1.5.2 segments-2.2.1 tensorboard-2.3.0\r\n",
      "\u001b[33mWARNING: Running pip as the 'root' user can result in broken permissions and conflicting behaviour with the system package manager. It is recommended to use a virtual environment instead: https://pip.pypa.io/warnings/venv\u001b[0m\u001b[33m\r\n",
      "\u001b[0mNote: you may need to restart the kernel to use updated packages.\n",
      "\r\n",
      "\r\n",
      "\r\n",
      "The following additional packages will be installed:\r\n",
      "  espeak-data libespeak1 libportaudio2 libsonic0\r\n",
      "The following NEW packages will be installed:\r\n",
      "  espeak espeak-data libespeak1 libportaudio2 libsonic0\r\n",
      "0 upgraded, 5 newly installed, 0 to remove and 43 not upgraded.\r\n",
      "Need to get 1220 kB of archives.\r\n",
      "After this operation, 3060 kB of additional disk space will be used.\r\n",
      "Get:1 http://archive.ubuntu.com/ubuntu focal/universe amd64 libportaudio2 amd64 19.6.0-1build1 [65.4 kB]\r\n",
      "Get:2 http://archive.ubuntu.com/ubuntu focal/main amd64 libsonic0 amd64 0.2.0-8 [13.1 kB]\r\n",
      "Get:3 http://archive.ubuntu.com/ubuntu focal/universe amd64 espeak-data amd64 1.48.04+dfsg-8build1 [932 kB]\r\n",
      "Get:4 http://archive.ubuntu.com/ubuntu focal/universe amd64 libespeak1 amd64 1.48.04+dfsg-8build1 [147 kB]\r\n",
      "Get:5 http://archive.ubuntu.com/ubuntu focal/universe amd64 espeak amd64 1.48.04+dfsg-8build1 [61.8 kB]\r\n",
      "Fetched 1220 kB in 1s (815 kB/s)\r\n",
      "Selecting previously unselected package libportaudio2:amd64.\r\n",
      "(Reading database ... 108827 files and directories currently installed.)\r\n",
      "Preparing to unpack .../libportaudio2_19.6.0-1build1_amd64.deb ...\r\n",
      "Unpacking libportaudio2:amd64 (19.6.0-1build1) ...\r\n",
      "Selecting previously unselected package libsonic0:amd64.\r\n",
      "Preparing to unpack .../libsonic0_0.2.0-8_amd64.deb ...\r\n",
      "Unpacking libsonic0:amd64 (0.2.0-8) ...\r\n",
      "Selecting previously unselected package espeak-data:amd64.\r\n",
      "Preparing to unpack .../espeak-data_1.48.04+dfsg-8build1_amd64.deb ...\r\n",
      "Unpacking espeak-data:amd64 (1.48.04+dfsg-8build1) ...\r\n",
      "Selecting previously unselected package libespeak1:amd64.\r\n",
      "Preparing to unpack .../libespeak1_1.48.04+dfsg-8build1_amd64.deb ...\r\n",
      "Unpacking libespeak1:amd64 (1.48.04+dfsg-8build1) ...\r\n",
      "Selecting previously unselected package espeak.\r\n",
      "Preparing to unpack .../espeak_1.48.04+dfsg-8build1_amd64.deb ...\r\n",
      "Unpacking espeak (1.48.04+dfsg-8build1) ...\r\n",
      "Setting up libportaudio2:amd64 (19.6.0-1build1) ...\r\n",
      "Setting up libsonic0:amd64 (0.2.0-8) ...\r\n",
      "Setting up espeak-data:amd64 (1.48.04+dfsg-8build1) ...\r\n",
      "Setting up libespeak1:amd64 (1.48.04+dfsg-8build1) ...\r\n",
      "Setting up espeak (1.48.04+dfsg-8build1) ...\r\n",
      "Processing triggers for man-db (2.9.1-1) ...\r\n",
      "Processing triggers for libc-bin (2.31-0ubuntu9.7) ...\r\n"
     ]
    }
   ],
   "source": [
    "!git clone https://github.com/1595258509/VITS_Japanese.git\n",
    "%cd VITS_Japanese\n",
    "%pip install Cython==0.29.21 librosa==0.8.0 matplotlib==3.3.1 numpy==1.21.6 phonemizer==2.2.1 scipy==1.5.2 tensorboard==2.3.0 torch torchvision Unidecode==1.1.1 pyopenjtalk==0.1.3 jamo==0.4.1\n",
    "!sudo apt-get install espeak -y"
   ]
  },
  {
   "cell_type": "code",
   "execution_count": 2,
   "id": "88adf6f4",
   "metadata": {
    "execution": {
     "iopub.execute_input": "2022-08-10T12:07:01.092699Z",
     "iopub.status.busy": "2022-08-10T12:07:01.091729Z",
     "iopub.status.idle": "2022-08-10T12:07:11.142296Z",
     "shell.execute_reply": "2022-08-10T12:07:11.140263Z"
    },
    "papermill": {
     "duration": 10.070588,
     "end_time": "2022-08-10T12:07:11.145230",
     "exception": false,
     "start_time": "2022-08-10T12:07:01.074642",
     "status": "completed"
    },
    "tags": []
   },
   "outputs": [
    {
     "name": "stdout",
     "output_type": "stream",
     "text": [
      "Requirement already satisfied: pyopenjtalk==0.1.3 in /opt/conda/lib/python3.7/site-packages (0.1.3)\r\n",
      "Requirement already satisfied: numpy>=1.8.0 in /opt/conda/lib/python3.7/site-packages (from pyopenjtalk==0.1.3) (1.21.6)\r\n",
      "Requirement already satisfied: cython>=0.21.0 in /opt/conda/lib/python3.7/site-packages (from pyopenjtalk==0.1.3) (0.29.21)\r\n",
      "Requirement already satisfied: six in /opt/conda/lib/python3.7/site-packages (from pyopenjtalk==0.1.3) (1.16.0)\r\n",
      "\u001b[33mWARNING: Running pip as the 'root' user can result in broken permissions and conflicting behaviour with the system package manager. It is recommended to use a virtual environment instead: https://pip.pypa.io/warnings/venv\u001b[0m\u001b[33m\r\n",
      "\u001b[0mNote: you may need to restart the kernel to use updated packages.\n"
     ]
    }
   ],
   "source": [
    "%pip install pyopenjtalk==0.1.3"
   ]
  },
  {
   "cell_type": "markdown",
   "id": "3ebfbddb",
   "metadata": {
    "papermill": {
     "duration": 0.014201,
     "end_time": "2022-08-10T12:07:11.176443",
     "exception": false,
     "start_time": "2022-08-10T12:07:11.162242",
     "status": "completed"
    },
    "pycharm": {
     "name": "#%% md\n"
    },
    "tags": []
   },
   "source": [
    "# Copy dataset"
   ]
  },
  {
   "cell_type": "code",
   "execution_count": 3,
   "id": "e9865a4a",
   "metadata": {
    "collapsed": false,
    "execution": {
     "iopub.execute_input": "2022-08-10T12:07:11.207539Z",
     "iopub.status.busy": "2022-08-10T12:07:11.207189Z",
     "iopub.status.idle": "2022-08-10T12:10:40.690243Z",
     "shell.execute_reply": "2022-08-10T12:10:40.688782Z"
    },
    "jupyter": {
     "outputs_hidden": false
    },
    "papermill": {
     "duration": 209.501796,
     "end_time": "2022-08-10T12:10:40.693031",
     "exception": false,
     "start_time": "2022-08-10T12:07:11.191235",
     "status": "completed"
    },
    "pycharm": {
     "name": "#%%\n"
    },
    "tags": []
   },
   "outputs": [],
   "source": [
    "!cp -r /kaggle/input/yosugaharuka/* ./\n",
    "#!cp -r /kaggle/input/filelists/* ./filelists/"
   ]
  },
  {
   "cell_type": "markdown",
   "id": "ea0abd2d",
   "metadata": {
    "id": "LY9d2hgjmYUF",
    "papermill": {
     "duration": 0.01449,
     "end_time": "2022-08-10T12:10:40.722847",
     "exception": false,
     "start_time": "2022-08-10T12:10:40.708357",
     "status": "completed"
    },
    "pycharm": {
     "name": "#%% md\n"
    },
    "tags": []
   },
   "source": [
    "# Alignment"
   ]
  },
  {
   "cell_type": "code",
   "execution_count": 4,
   "id": "fc8feb89",
   "metadata": {
    "execution": {
     "iopub.execute_input": "2022-08-10T12:10:40.754477Z",
     "iopub.status.busy": "2022-08-10T12:10:40.753483Z",
     "iopub.status.idle": "2022-08-10T12:10:48.317473Z",
     "shell.execute_reply": "2022-08-10T12:10:48.316235Z"
    },
    "executionInfo": {
     "elapsed": 4802,
     "status": "ok",
     "timestamp": 1659462298052,
     "user": {
      "displayName": "章政",
      "userId": "17693849672782836082"
     },
     "user_tz": -480
    },
    "id": "LOsV22D8IUTS",
    "outputId": "8b9b7c35-e869-4af5-a8eb-9e6eee11fa7c",
    "papermill": {
     "duration": 7.588896,
     "end_time": "2022-08-10T12:10:48.326363",
     "exception": false,
     "start_time": "2022-08-10T12:10:40.737467",
     "status": "completed"
    },
    "pycharm": {
     "name": "#%%\n"
    },
    "tags": []
   },
   "outputs": [
    {
     "name": "stdout",
     "output_type": "stream",
     "text": [
      "/kaggle/working/VITS_Japanese/monotonic_align\n",
      "Compiling core.pyx because it changed.\r\n",
      "[1/1] Cythonizing core.pyx\r\n",
      "/opt/conda/lib/python3.7/site-packages/Cython/Compiler/Main.py:369: FutureWarning: Cython directive 'language_level' not set, using 2 for now (Py2). This will change in a later release! File: /kaggle/working/VITS_Japanese/monotonic_align/core.pyx\r\n",
      "  tree = Parsing.p_module(s, pxd, full_module_name)\r\n",
      "running build_ext\r\n",
      "building 'monotonic_align.core' extension\r\n",
      "creating build\r\n",
      "creating build/temp.linux-x86_64-3.7\r\n",
      "gcc -pthread -B /opt/conda/compiler_compat -Wl,--sysroot=/ -Wsign-compare -DNDEBUG -g -fwrapv -O3 -Wall -Wstrict-prototypes -fPIC -I/opt/conda/lib/python3.7/site-packages/numpy/core/include -I/opt/conda/include/python3.7m -c core.c -o build/temp.linux-x86_64-3.7/core.o\r\n",
      "creating /kaggle/working/VITS_Japanese/monotonic_align/monotonic_align\r\n",
      "gcc -pthread -shared -B /opt/conda/compiler_compat -L/opt/conda/lib -Wl,-rpath=/opt/conda/lib -Wl,--no-as-needed -Wl,--sysroot=/ build/temp.linux-x86_64-3.7/core.o -o /kaggle/working/VITS_Japanese/monotonic_align/monotonic_align/core.cpython-37m-x86_64-linux-gnu.so\r\n",
      "/kaggle/working/VITS_Japanese\n"
     ]
    }
   ],
   "source": [
    "%cd monotonic_align\n",
    "!python setup.py build_ext --inplace\n",
    "%cd .."
   ]
  },
  {
   "cell_type": "markdown",
   "id": "bb6c5223",
   "metadata": {
    "id": "gjIAR_UsmPEz",
    "papermill": {
     "duration": 0.583214,
     "end_time": "2022-08-10T12:10:48.937548",
     "exception": false,
     "start_time": "2022-08-10T12:10:48.354334",
     "status": "completed"
    },
    "pycharm": {
     "name": "#%% md\n"
    },
    "tags": []
   },
   "source": [
    "# Train"
   ]
  },
  {
   "cell_type": "code",
   "execution_count": 5,
   "id": "fa5843c1",
   "metadata": {
    "execution": {
     "iopub.execute_input": "2022-08-10T12:10:48.971611Z",
     "iopub.status.busy": "2022-08-10T12:10:48.971239Z",
     "iopub.status.idle": "2022-08-10T12:10:49.989189Z",
     "shell.execute_reply": "2022-08-10T12:10:49.988001Z"
    },
    "papermill": {
     "duration": 1.037477,
     "end_time": "2022-08-10T12:10:49.991748",
     "exception": false,
     "start_time": "2022-08-10T12:10:48.954271",
     "status": "completed"
    },
    "tags": []
   },
   "outputs": [
    {
     "name": "stdout",
     "output_type": "stream",
     "text": [
      "Wed Aug 10 12:10:49 2022       \r\n",
      "+-----------------------------------------------------------------------------+\r\n",
      "| NVIDIA-SMI 470.82.01    Driver Version: 470.82.01    CUDA Version: 11.4     |\r\n",
      "|-------------------------------+----------------------+----------------------+\r\n",
      "| GPU  Name        Persistence-M| Bus-Id        Disp.A | Volatile Uncorr. ECC |\r\n",
      "| Fan  Temp  Perf  Pwr:Usage/Cap|         Memory-Usage | GPU-Util  Compute M. |\r\n",
      "|                               |                      |               MIG M. |\r\n",
      "|===============================+======================+======================|\r\n",
      "|   0  Tesla P100-PCIE...  Off  | 00000000:00:04.0 Off |                    0 |\r\n",
      "| N/A   36C    P0    27W / 250W |      0MiB / 16280MiB |      0%      Default |\r\n",
      "|                               |                      |                  N/A |\r\n",
      "+-------------------------------+----------------------+----------------------+\r\n",
      "                                                                               \r\n",
      "+-----------------------------------------------------------------------------+\r\n",
      "| Processes:                                                                  |\r\n",
      "|  GPU   GI   CI        PID   Type   Process name                  GPU Memory |\r\n",
      "|        ID   ID                                                   Usage      |\r\n",
      "|=============================================================================|\r\n",
      "|  No running processes found                                                 |\r\n",
      "+-----------------------------------------------------------------------------+\r\n"
     ]
    }
   ],
   "source": [
    "! /opt/bin/nvidia-smi"
   ]
  },
  {
   "cell_type": "code",
   "execution_count": 6,
   "id": "a6a40d93",
   "metadata": {
    "execution": {
     "iopub.execute_input": "2022-08-10T12:10:50.025519Z",
     "iopub.status.busy": "2022-08-10T12:10:50.024485Z",
     "iopub.status.idle": "2022-08-10T12:15:20.370570Z",
     "shell.execute_reply": "2022-08-10T12:15:20.369393Z"
    },
    "executionInfo": {
     "elapsed": 245907,
     "status": "ok",
     "timestamp": 1659464394347,
     "user": {
      "displayName": "章政",
      "userId": "17693849672782836082"
     },
     "user_tz": -480
    },
    "id": "ltU2JXpxIh-K",
    "outputId": "13573700-ca5d-4bd1-ebbc-966c059e1327",
    "papermill": {
     "duration": 270.364781,
     "end_time": "2022-08-10T12:15:20.373032",
     "exception": false,
     "start_time": "2022-08-10T12:10:50.008251",
     "status": "completed"
    },
    "pycharm": {
     "name": "#%%\n"
    },
    "tags": []
   },
   "outputs": [
    {
     "name": "stdout",
     "output_type": "stream",
     "text": [
      "/opt/conda/lib/python3.7/site-packages/torch/utils/data/dataloader.py:490: UserWarning: This DataLoader will create 8 worker processes in total. Our suggested max number of worker in current system is 2, which is smaller than what this DataLoader is going to create. Please be aware that excessive worker creation might get DataLoader running slow or even freeze, lower the worker number to avoid potential slowness/freeze if necessary.\r\n",
      "  cpuset_checked))\r\n",
      "Downloading: \"https://downloads.sourceforge.net/open-jtalk/open_jtalk_dic_utf_8-1.11.tar.gz\"\r\n",
      "Downloading: \"https://downloads.sourceforge.net/open-jtalk/open_jtalk_dic_utf_8-1.11.tar.gz\"\r\n",
      "Downloading: \"https://downloads.sourceforge.net/open-jtalk/open_jtalk_dic_utf_8-1.11.tar.gz\"\r\n",
      "Downloading: \"https://downloads.sourceforge.net/open-jtalk/open_jtalk_dic_utf_8-1.11.tar.gz\"\r\n",
      "Downloading: \"https://downloads.sourceforge.net/open-jtalk/open_jtalk_dic_utf_8-1.11.tar.gz\"\r\n",
      "Downloading: \"https://downloads.sourceforge.net/open-jtalk/open_jtalk_dic_utf_8-1.11.tar.gz\"\r\n",
      "Downloading: \"https://downloads.sourceforge.net/open-jtalk/open_jtalk_dic_utf_8-1.11.tar.gz\"\r\n",
      "Downloading: \"https://downloads.sourceforge.net/open-jtalk/open_jtalk_dic_utf_8-1.11.tar.gz\"\r\n",
      "Extracting tar file /opt/conda/lib/python3.7/site-packages/pyopenjtalk/dic.tar.gz\r\n",
      "ERROR: Mecab_load() in mecab.cpp: Cannot open /opt/conda/lib/python3.7/site-packages/pyopenjtalk/open_jtalk_dic_utf_8-1.11.\r\n",
      "Extracting tar file /opt/conda/lib/python3.7/site-packages/pyopenjtalk/dic.tar.gz\r\n",
      "ERROR: Mecab_load() in mecab.cpp: Cannot open /opt/conda/lib/python3.7/site-packages/pyopenjtalk/open_jtalk_dic_utf_8-1.11.\r\n",
      "Extracting tar file /opt/conda/lib/python3.7/site-packages/pyopenjtalk/dic.tar.gz\r\n",
      "/opt/conda/lib/python3.7/site-packages/torch/functional.py:696: UserWarning: stft will soon require the return_complex parameter be given for real inputs, and will further require that return_complex=True in a future PyTorch release. (Triggered internally at  /usr/local/src/pytorch/aten/src/ATen/native/SpectralOps.cpp:795.)\r\n",
      "  normalized, onesided, return_complex)\r\n",
      "WARNING: JPCommonLabel_insert_word() in jpcommon_label.c: First mora should not be short pause.\r\n",
      "Extracting tar file /opt/conda/lib/python3.7/site-packages/pyopenjtalk/dic.tar.gz\r\n",
      "/opt/conda/lib/python3.7/site-packages/torch/functional.py:696: UserWarning: stft will soon require the return_complex parameter be given for real inputs, and will further require that return_complex=True in a future PyTorch release. (Triggered internally at  /usr/local/src/pytorch/aten/src/ATen/native/SpectralOps.cpp:795.)\r\n",
      "  normalized, onesided, return_complex)\r\n",
      "WARNING: JPCommonLabel_insert_word() in jpcommon_label.c: First mora should not be short pause.\r\n",
      "Extracting tar file /opt/conda/lib/python3.7/site-packages/pyopenjtalk/dic.tar.gz\r\n",
      "/opt/conda/lib/python3.7/site-packages/torch/functional.py:696: UserWarning: stft will soon require the return_complex parameter be given for real inputs, and will further require that return_complex=True in a future PyTorch release. (Triggered internally at  /usr/local/src/pytorch/aten/src/ATen/native/SpectralOps.cpp:795.)\r\n",
      "  normalized, onesided, return_complex)\r\n",
      "WARNING: JPCommonLabel_insert_word() in jpcommon_label.c: First mora should not be short pause.\r\n",
      "WARNING: JPCommonLabel_insert_word() in jpcommon_label.c: First mora should not be short pause.\r\n",
      "Extracting tar file /opt/conda/lib/python3.7/site-packages/pyopenjtalk/dic.tar.gz\r\n",
      "ERROR: Mecab_load() in mecab.cpp: Cannot open /opt/conda/lib/python3.7/site-packages/pyopenjtalk/open_jtalk_dic_utf_8-1.11.\r\n",
      "Extracting tar file /opt/conda/lib/python3.7/site-packages/pyopenjtalk/dic.tar.gz\r\n",
      "/opt/conda/lib/python3.7/site-packages/torch/functional.py:696: UserWarning: stft will soon require the return_complex parameter be given for real inputs, and will further require that return_complex=True in a future PyTorch release. (Triggered internally at  /usr/local/src/pytorch/aten/src/ATen/native/SpectralOps.cpp:795.)\r\n",
      "  normalized, onesided, return_complex)\r\n",
      "WARNING: JPCommonLabel_insert_word() in jpcommon_label.c: First mora should not be short pause.\r\n",
      "Extracting tar file /opt/conda/lib/python3.7/site-packages/pyopenjtalk/dic.tar.gz\r\n",
      "/opt/conda/lib/python3.7/site-packages/torch/functional.py:696: UserWarning: stft will soon require the return_complex parameter be given for real inputs, and will further require that return_complex=True in a future PyTorch release. (Triggered internally at  /usr/local/src/pytorch/aten/src/ATen/native/SpectralOps.cpp:795.)\r\n",
      "  normalized, onesided, return_complex)\r\n",
      "WARNING: JPCommonLabel_insert_word() in jpcommon_label.c: First mora should not be short pause.\r\n",
      "/opt/conda/lib/python3.7/site-packages/torch/functional.py:696: UserWarning: stft will soon require the return_complex parameter be given for real inputs, and will further require that return_complex=True in a future PyTorch release. (Triggered internally at  /usr/local/src/pytorch/aten/src/ATen/native/SpectralOps.cpp:795.)\r\n",
      "  normalized, onesided, return_complex)\r\n",
      "/opt/conda/lib/python3.7/site-packages/torch/utils/data/dataloader.py:490: UserWarning: This DataLoader will create 8 worker processes in total. Our suggested max number of worker in current system is 2, which is smaller than what this DataLoader is going to create. Please be aware that excessive worker creation might get DataLoader running slow or even freeze, lower the worker number to avoid potential slowness/freeze if necessary.\r\n",
      "  cpuset_checked))\r\n",
      "/opt/conda/lib/python3.7/site-packages/torch/functional.py:696: UserWarning: stft will soon require the return_complex parameter be given for real inputs, and will further require that return_complex=True in a future PyTorch release. (Triggered internally at  /usr/local/src/pytorch/aten/src/ATen/native/SpectralOps.cpp:795.)\r\n",
      "  normalized, onesided, return_complex)\r\n",
      "/opt/conda/lib/python3.7/site-packages/torch/functional.py:696: UserWarning: stft will soon require the return_complex parameter be given for real inputs, and will further require that return_complex=True in a future PyTorch release. (Triggered internally at  /usr/local/src/pytorch/aten/src/ATen/native/SpectralOps.cpp:795.)\r\n",
      "  normalized, onesided, return_complex)\r\n",
      "/opt/conda/lib/python3.7/site-packages/torch/functional.py:696: UserWarning: stft will soon require the return_complex parameter be given for real inputs, and will further require that return_complex=True in a future PyTorch release. (Triggered internally at  /usr/local/src/pytorch/aten/src/ATen/native/SpectralOps.cpp:795.)\r\n",
      "  normalized, onesided, return_complex)\r\n",
      "/opt/conda/lib/python3.7/site-packages/torch/functional.py:696: UserWarning: stft will soon require the return_complex parameter be given for real inputs, and will further require that return_complex=True in a future PyTorch release. (Triggered internally at  /usr/local/src/pytorch/aten/src/ATen/native/SpectralOps.cpp:795.)\r\n",
      "  normalized, onesided, return_complex)\r\n",
      "/opt/conda/lib/python3.7/site-packages/torch/functional.py:696: UserWarning: stft will soon require the return_complex parameter be given for real inputs, and will further require that return_complex=True in a future PyTorch release. (Triggered internally at  /usr/local/src/pytorch/aten/src/ATen/native/SpectralOps.cpp:795.)\r\n",
      "  normalized, onesided, return_complex)\r\n",
      "/opt/conda/lib/python3.7/site-packages/torch/functional.py:696: UserWarning: stft will soon require the return_complex parameter be given for real inputs, and will further require that return_complex=True in a future PyTorch release. (Triggered internally at  /usr/local/src/pytorch/aten/src/ATen/native/SpectralOps.cpp:795.)\r\n",
      "  normalized, onesided, return_complex)\r\n",
      "/opt/conda/lib/python3.7/site-packages/torch/functional.py:696: UserWarning: stft will soon require the return_complex parameter be given for real inputs, and will further require that return_complex=True in a future PyTorch release. (Triggered internally at  /usr/local/src/pytorch/aten/src/ATen/native/SpectralOps.cpp:795.)\r\n",
      "  normalized, onesided, return_complex)\r\n",
      "/opt/conda/lib/python3.7/site-packages/torch/functional.py:696: UserWarning: stft will soon require the return_complex parameter be given for real inputs, and will further require that return_complex=True in a future PyTorch release. (Triggered internally at  /usr/local/src/pytorch/aten/src/ATen/native/SpectralOps.cpp:795.)\r\n",
      "  normalized, onesided, return_complex)\r\n",
      "WARNING: JPCommonLabel_insert_word() in jpcommon_label.c: First mora should not be short pause.\r\n",
      "WARNING: JPCommonLabel_insert_word() in jpcommon_label.c: First mora should not be short pause.\r\n",
      "WARNING: JPCommonLabel_insert_word() in jpcommon_label.c: First mora should not be short pause.\r\n",
      "WARNING: JPCommonLabel_insert_word() in jpcommon_label.c: First mora should not be short pause.\r\n",
      "WARNING: JPCommonLabel_insert_word() in jpcommon_label.c: First mora should not be short pause.\r\n",
      "WARNING: JPCommonLabel_insert_word() in jpcommon_label.c: First mora should not be short pause.\r\n",
      "WARNING: JPCommonLabel_insert_word() in jpcommon_label.c: First mora should not be short pause.\r\n",
      "\u001b[0m\u001b[0mWARNING: JPCommonLabel_insert_word() in jpcommon_label.c: First mora should not be short pause.\r\n",
      "\u001b[0m\u001b[0mWARNING: JPCommonLabel_insert_word() in jpcommon_label.c: First mora should not be short pause.\r\n",
      "\u001b[0m\u001b[0m\u001b[0m\u001b[0m\u001b[0mTraceback (most recent call last):\r\n",
      "  File \"train_ms.py\", line 299, in <module>\r\n",
      "    main()\r\n",
      "  File \"train_ms.py\", line 55, in main\r\n",
      "    mp.spawn(run, nprocs=n_gpus, args=(n_gpus, hps,))\r\n",
      "  File \"/opt/conda/lib/python3.7/site-packages/torch/multiprocessing/spawn.py\", line 240, in spawn\r\n",
      "    return start_processes(fn, args, nprocs, join, daemon, start_method='spawn')\r\n",
      "  File \"/opt/conda/lib/python3.7/site-packages/torch/multiprocessing/spawn.py\", line 198, in start_processes\r\n",
      "    while not context.join():\r\n",
      "  File \"/opt/conda/lib/python3.7/site-packages/torch/multiprocessing/spawn.py\", line 160, in join\r\n",
      "    raise ProcessRaisedException(msg, error_index, failed_process.pid)\r\n",
      "torch.multiprocessing.spawn.ProcessRaisedException: \r\n",
      "\r\n",
      "-- Process 0 terminated with the following error:\r\n",
      "Traceback (most recent call last):\r\n",
      "  File \"/opt/conda/lib/python3.7/site-packages/torch/multiprocessing/spawn.py\", line 69, in _wrap\r\n",
      "    fn(i, *args)\r\n",
      "  File \"/kaggle/working/VITS_Japanese/train_ms.py\", line 123, in run\r\n",
      "    train_and_evaluate(rank, epoch, hps, [net_g, net_d], [optim_g, optim_d], [scheduler_g, scheduler_d], scaler, [train_loader, eval_loader], logger, [writer, writer_eval])\r\n",
      "  File \"/kaggle/working/VITS_Japanese/train_ms.py\", line 143, in train_and_evaluate\r\n",
      "    for batch_idx, (x, x_lengths, spec, spec_lengths, y, y_lengths, speakers) in enumerate(train_loader):\r\n",
      "  File \"/opt/conda/lib/python3.7/site-packages/torch/utils/data/dataloader.py\", line 530, in __next__\r\n",
      "    data = self._next_data()\r\n",
      "  File \"/opt/conda/lib/python3.7/site-packages/torch/utils/data/dataloader.py\", line 1224, in _next_data\r\n",
      "    return self._process_data(data)\r\n",
      "  File \"/opt/conda/lib/python3.7/site-packages/torch/utils/data/dataloader.py\", line 1250, in _process_data\r\n",
      "    data.reraise()\r\n",
      "  File \"/opt/conda/lib/python3.7/site-packages/torch/_utils.py\", line 457, in reraise\r\n",
      "    raise exception\r\n",
      "FileNotFoundError: Caught FileNotFoundError in DataLoader worker process 1.\r\n",
      "Original Traceback (most recent call last):\r\n",
      "  File \"/opt/conda/lib/python3.7/site-packages/torch/utils/data/_utils/worker.py\", line 287, in _worker_loop\r\n",
      "    data = fetcher.fetch(index)\r\n",
      "  File \"/opt/conda/lib/python3.7/site-packages/torch/utils/data/_utils/fetch.py\", line 49, in fetch\r\n",
      "    data = [self.dataset[idx] for idx in possibly_batched_index]\r\n",
      "  File \"/opt/conda/lib/python3.7/site-packages/torch/utils/data/_utils/fetch.py\", line 49, in <listcomp>\r\n",
      "    data = [self.dataset[idx] for idx in possibly_batched_index]\r\n",
      "  File \"/kaggle/working/VITS_Japanese/data_utils.py\", line 236, in __getitem__\r\n",
      "    return self.get_audio_text_speaker_pair(self.audiopaths_sid_text[index])\r\n",
      "  File \"/kaggle/working/VITS_Japanese/data_utils.py\", line 198, in get_audio_text_speaker_pair\r\n",
      "    text = self.get_text(text)\r\n",
      "  File \"/kaggle/working/VITS_Japanese/data_utils.py\", line 225, in get_text\r\n",
      "    text_norm = text_to_sequence(text, self.text_cleaners)\r\n",
      "  File \"/kaggle/working/VITS_Japanese/text/__init__.py\", line 21, in text_to_sequence\r\n",
      "    clean_text = _clean_text(text, cleaner_names)\r\n",
      "  File \"/kaggle/working/VITS_Japanese/text/__init__.py\", line 55, in _clean_text\r\n",
      "    text = cleaner(text)\r\n",
      "  File \"/kaggle/working/VITS_Japanese/text/cleaners.py\", line 307, in japanese_cleaners2\r\n",
      "    labels = pyopenjtalk.extract_fullcontext(sentence)\r\n",
      "  File \"/opt/conda/lib/python3.7/site-packages/pyopenjtalk/__init__.py\", line 95, in extract_fullcontext\r\n",
      "    _, labels = run_frontend(text)\r\n",
      "  File \"/opt/conda/lib/python3.7/site-packages/pyopenjtalk/__init__.py\", line 151, in run_frontend\r\n",
      "    _lazy_init()\r\n",
      "  File \"/opt/conda/lib/python3.7/site-packages/pyopenjtalk/__init__.py\", line 60, in _lazy_init\r\n",
      "    _extract_dic()\r\n",
      "  File \"/opt/conda/lib/python3.7/site-packages/pyopenjtalk/__init__.py\", line 50, in _extract_dic\r\n",
      "    with tarfile.open(filename, mode=\"r|gz\") as f:\r\n",
      "  File \"/opt/conda/lib/python3.7/tarfile.py\", line 1603, in open\r\n",
      "    stream = _Stream(name, filemode, comptype, fileobj, bufsize)\r\n",
      "  File \"/opt/conda/lib/python3.7/tarfile.py\", line 350, in __init__\r\n",
      "    fileobj = _LowLevelFile(name, mode)\r\n",
      "  File \"/opt/conda/lib/python3.7/tarfile.py\", line 323, in __init__\r\n",
      "    self.fd = os.open(name, mode, 0o666)\r\n",
      "FileNotFoundError: [Errno 2] No such file or directory: '/opt/conda/lib/python3.7/site-packages/pyopenjtalk/dic.tar.gz'\r\n",
      "\r\n",
      "\r\n",
      "\u001b[0m"
     ]
    }
   ],
   "source": [
    "!python train_ms.py -c configs/yosuga_base.json -m yosuga_base"
   ]
  }
 ],
 "metadata": {
  "kernelspec": {
   "display_name": "Python 3",
   "language": "python",
   "name": "python3"
  },
  "language_info": {
   "codemirror_mode": {
    "name": "ipython",
    "version": 3
   },
   "file_extension": ".py",
   "mimetype": "text/x-python",
   "name": "python",
   "nbconvert_exporter": "python",
   "pygments_lexer": "ipython3",
   "version": "3.7.12"
  },
  "papermill": {
   "default_parameters": {},
   "duration": 645.514414,
   "end_time": "2022-08-10T12:15:21.013652",
   "environment_variables": {},
   "exception": null,
   "input_path": "__notebook__.ipynb",
   "output_path": "__notebook__.ipynb",
   "parameters": {},
   "start_time": "2022-08-10T12:04:35.499238",
   "version": "2.3.4"
  }
 },
 "nbformat": 4,
 "nbformat_minor": 5
}
